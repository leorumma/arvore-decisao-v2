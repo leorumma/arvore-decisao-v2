{
 "cells": [
  {
   "cell_type": "markdown",
   "id": "d209c204",
   "metadata": {
    "colab_type": "text",
    "id": "view-in-github"
   },
   "source": [
    "<a href=\"https://colab.research.google.com/github/leorumma/arvore-decisao-v2/blob/main/arvore-decisao-parte2.ipynb\" target=\"_parent\"><img src=\"https://colab.research.google.com/assets/colab-badge.svg\" alt=\"Open In Colab\"/></a>"
   ]
  },
  {
   "cell_type": "code",
   "execution_count": 1,
   "id": "a344f771",
   "metadata": {
    "id": "a344f771"
   },
   "outputs": [],
   "source": [
    "import pandas as pd\n",
    "from sklearn.tree import DecisionTreeClassifier\n",
    "from sklearn import metrics\n",
    "from sklearn.model_selection import train_test_split\n",
    "from sklearn.model_selection import KFold\n",
    "from seaborn import heatmap\n",
    "import matplotlib.pyplot as plt\n",
    "import random\n",
    "\n",
    "#criar os gráficos das árvores de decisão\n",
    "from sklearn.tree import export_graphviz\n",
    "from six import StringIO\n",
    "from IPython.display import Image  \n",
    "import pydotplus"
   ]
  },
  {
   "cell_type": "code",
   "execution_count": 2,
   "id": "6cc9b5c2-0e25-424d-b1a1-505abbb050b5",
   "metadata": {},
   "outputs": [],
   "source": [
    "def print_decision_tree(decision_tree_clf, feature_names):\n",
    "    # tem que usar feature_names = one_hot_data.columns pois feature_names = feature_cols tem menos atributos\n",
    "    # pois o one-hot acrescenta mais\n",
    "    dot_data = StringIO()\n",
    "    export_graphviz(decision_tree_clf, out_file=dot_data,  \n",
    "                    filled=True, rounded=True,\n",
    "                    special_characters=True,feature_names = feature_names, class_names=['No','Yes'])\n",
    "    graph = pydotplus.graph_from_dot_data(dot_data.getvalue())  \n",
    "    #graph.write_png('arvore1.png')\n",
    "    clf_image_png = graph.create_png()\n",
    "    \n",
    "    Image(clf_image_png)"
   ]
  },
  {
   "cell_type": "code",
   "execution_count": 3,
   "id": "413230d5-5606-46f0-94b2-f976ea0b6913",
   "metadata": {},
   "outputs": [],
   "source": [
    "#link para o dataset: \n",
    "DATASET_URL = 'https://drive.google.com/uc?id=1JCdSHO1lHj06qpV92tigrovhzJQbcr1h&confirm=t'\n",
    "dataset = pd.read_csv(DATASET_URL)\n",
    "original_dataset = dataset.copy()"
   ]
  },
  {
   "cell_type": "code",
   "execution_count": 4,
   "id": "60b67e06-240f-45a0-8a24-9c7703d5cace",
   "metadata": {},
   "outputs": [
    {
     "data": {
      "text/html": [
       "<div>\n",
       "<style scoped>\n",
       "    .dataframe tbody tr th:only-of-type {\n",
       "        vertical-align: middle;\n",
       "    }\n",
       "\n",
       "    .dataframe tbody tr th {\n",
       "        vertical-align: top;\n",
       "    }\n",
       "\n",
       "    .dataframe thead th {\n",
       "        text-align: right;\n",
       "    }\n",
       "</style>\n",
       "<table border=\"1\" class=\"dataframe\">\n",
       "  <thead>\n",
       "    <tr style=\"text-align: right;\">\n",
       "      <th></th>\n",
       "      <th>step</th>\n",
       "      <th>type</th>\n",
       "      <th>amount</th>\n",
       "      <th>nameOrig</th>\n",
       "      <th>oldbalanceOrg</th>\n",
       "      <th>newbalanceOrig</th>\n",
       "      <th>nameDest</th>\n",
       "      <th>oldbalanceDest</th>\n",
       "      <th>newbalanceDest</th>\n",
       "      <th>isFraud</th>\n",
       "      <th>isFlaggedFraud</th>\n",
       "    </tr>\n",
       "  </thead>\n",
       "  <tbody>\n",
       "    <tr>\n",
       "      <th>0</th>\n",
       "      <td>1</td>\n",
       "      <td>PAYMENT</td>\n",
       "      <td>9839.64</td>\n",
       "      <td>C1231006815</td>\n",
       "      <td>170136.0</td>\n",
       "      <td>160296.36</td>\n",
       "      <td>M1979787155</td>\n",
       "      <td>0.0</td>\n",
       "      <td>0.0</td>\n",
       "      <td>0</td>\n",
       "      <td>0</td>\n",
       "    </tr>\n",
       "    <tr>\n",
       "      <th>1</th>\n",
       "      <td>1</td>\n",
       "      <td>PAYMENT</td>\n",
       "      <td>1864.28</td>\n",
       "      <td>C1666544295</td>\n",
       "      <td>21249.0</td>\n",
       "      <td>19384.72</td>\n",
       "      <td>M2044282225</td>\n",
       "      <td>0.0</td>\n",
       "      <td>0.0</td>\n",
       "      <td>0</td>\n",
       "      <td>0</td>\n",
       "    </tr>\n",
       "    <tr>\n",
       "      <th>2</th>\n",
       "      <td>1</td>\n",
       "      <td>TRANSFER</td>\n",
       "      <td>181.00</td>\n",
       "      <td>C1305486145</td>\n",
       "      <td>181.0</td>\n",
       "      <td>0.00</td>\n",
       "      <td>C553264065</td>\n",
       "      <td>0.0</td>\n",
       "      <td>0.0</td>\n",
       "      <td>1</td>\n",
       "      <td>0</td>\n",
       "    </tr>\n",
       "    <tr>\n",
       "      <th>3</th>\n",
       "      <td>1</td>\n",
       "      <td>CASH_OUT</td>\n",
       "      <td>181.00</td>\n",
       "      <td>C840083671</td>\n",
       "      <td>181.0</td>\n",
       "      <td>0.00</td>\n",
       "      <td>C38997010</td>\n",
       "      <td>21182.0</td>\n",
       "      <td>0.0</td>\n",
       "      <td>1</td>\n",
       "      <td>0</td>\n",
       "    </tr>\n",
       "    <tr>\n",
       "      <th>4</th>\n",
       "      <td>1</td>\n",
       "      <td>PAYMENT</td>\n",
       "      <td>11668.14</td>\n",
       "      <td>C2048537720</td>\n",
       "      <td>41554.0</td>\n",
       "      <td>29885.86</td>\n",
       "      <td>M1230701703</td>\n",
       "      <td>0.0</td>\n",
       "      <td>0.0</td>\n",
       "      <td>0</td>\n",
       "      <td>0</td>\n",
       "    </tr>\n",
       "  </tbody>\n",
       "</table>\n",
       "</div>"
      ],
      "text/plain": [
       "   step      type    amount     nameOrig  oldbalanceOrg  newbalanceOrig  \\\n",
       "0     1   PAYMENT   9839.64  C1231006815       170136.0       160296.36   \n",
       "1     1   PAYMENT   1864.28  C1666544295        21249.0        19384.72   \n",
       "2     1  TRANSFER    181.00  C1305486145          181.0            0.00   \n",
       "3     1  CASH_OUT    181.00   C840083671          181.0            0.00   \n",
       "4     1   PAYMENT  11668.14  C2048537720        41554.0        29885.86   \n",
       "\n",
       "      nameDest  oldbalanceDest  newbalanceDest  isFraud  isFlaggedFraud  \n",
       "0  M1979787155             0.0             0.0        0               0  \n",
       "1  M2044282225             0.0             0.0        0               0  \n",
       "2   C553264065             0.0             0.0        1               0  \n",
       "3    C38997010         21182.0             0.0        1               0  \n",
       "4  M1230701703             0.0             0.0        0               0  "
      ]
     },
     "execution_count": 4,
     "metadata": {},
     "output_type": "execute_result"
    }
   ],
   "source": [
    "dataset.head()"
   ]
  },
  {
   "cell_type": "code",
   "execution_count": 5,
   "id": "c39ac4b1-a021-4e64-8b0e-1592a9eefa18",
   "metadata": {},
   "outputs": [],
   "source": [
    "#Iniciando análise exploratória dos dados"
   ]
  },
  {
   "cell_type": "code",
   "execution_count": 6,
   "id": "b315cc0a-7030-43cb-8a10-9d99080c6208",
   "metadata": {},
   "outputs": [
    {
     "name": "stdout",
     "output_type": "stream",
     "text": [
      "6362620\n",
      "6362620\n"
     ]
    }
   ],
   "source": [
    "#Sem valores não preenchidos nas colunas\n",
    "print(len(dataset))\n",
    "print(len(dataset.dropna()))"
   ]
  },
  {
   "cell_type": "code",
   "execution_count": 7,
   "id": "e75cc066-f169-44b5-b111-ab485f331948",
   "metadata": {},
   "outputs": [
    {
     "name": "stdout",
     "output_type": "stream",
     "text": [
      "Index(['step', 'type', 'amount', 'nameOrig', 'oldbalanceOrg', 'newbalanceOrig',\n",
      "       'nameDest', 'oldbalanceDest', 'newbalanceDest', 'isFraud',\n",
      "       'isFlaggedFraud'],\n",
      "      dtype='object')\n"
     ]
    }
   ],
   "source": [
    "print(dataset.columns)"
   ]
  },
  {
   "cell_type": "code",
   "execution_count": 8,
   "id": "3501f737-a76a-4fe7-874f-d07e8ecda2c9",
   "metadata": {},
   "outputs": [
    {
     "name": "stdout",
     "output_type": "stream",
     "text": [
      "['PAYMENT' 'TRANSFER' 'CASH_OUT' 'DEBIT' 'CASH_IN']\n",
      "5\n"
     ]
    }
   ],
   "source": [
    "#tipos de pagamento/transação\n",
    "type_unique_values = dataset['type'].unique()\n",
    "print(type_unique_values)\n",
    "print(len(type_unique_values))\n",
    "\n",
    "#Conclusão: podemos(e faz sentido) categorizar esses dados e utilizarmos para treinar nosso classificador"
   ]
  },
  {
   "cell_type": "code",
   "execution_count": 9,
   "id": "b42ae3c2-4da8-4947-93d7-23d5c2aa7f1e",
   "metadata": {},
   "outputs": [
    {
     "name": "stdout",
     "output_type": "stream",
     "text": [
      "['C1231006815' 'C1666544295' 'C1305486145' ... 'C1162922333' 'C1685995037'\n",
      " 'C1280323807']\n",
      "6353307\n"
     ]
    }
   ],
   "source": [
    "# origens dos pagamentos\n",
    "nameOrig_unique_values = dataset['nameOrig'].unique()\n",
    "print(nameOrig_unique_values)\n",
    "print(len(nameOrig_unique_values))\n",
    "\n",
    "#Conclusão: poderíamos utilizar o get_dummies aqui, mas isso faria por adicionar 6353307 colunas\n",
    "# ao nosso dataset, o que é inviável(acho eu)"
   ]
  },
  {
   "cell_type": "code",
   "execution_count": 10,
   "id": "a064fa46-6627-494e-a622-c87f59469158",
   "metadata": {},
   "outputs": [
    {
     "name": "stdout",
     "output_type": "stream",
     "text": [
      "['M1979787155' 'M2044282225' 'C553264065' ... 'C1850423904' 'C1881841831'\n",
      " 'C2080388513']\n",
      "2722362\n"
     ]
    }
   ],
   "source": [
    "# origens dos pagamentos\n",
    "nameDest_unique_values = dataset['nameDest'].unique()\n",
    "print(nameDest_unique_values)\n",
    "print(len(nameDest_unique_values))\n",
    "\n",
    "#Conclusão: o mesmo acima vale para o atributo nameDest, vai ser dificil utilizar"
   ]
  },
  {
   "cell_type": "code",
   "execution_count": 11,
   "id": "12d05175-9220-450a-890c-7b8667fcebaf",
   "metadata": {},
   "outputs": [
    {
     "name": "stdout",
     "output_type": "stream",
     "text": [
      "| Máximo | Mediana | Mínimo | : | 59585040.37 | 14208.0 | 0.0 |\n"
     ]
    },
    {
     "data": {
      "image/png": "[encoded data removed]",
      "text/plain": [
       "<Figure size 432x288 with 1 Axes>"
      ]
     },
     "metadata": {
      "needs_background": "light"
     },
     "output_type": "display_data"
    }
   ],
   "source": [
    "#Boxplot do oldbalanceOrg\n",
    "print('| Máximo | Mediana | Mínimo | : | {0} | {1} | {2} |'\\\n",
    "      .format(dataset['oldbalanceOrg'].max(), dataset['oldbalanceOrg'].median(), dataset['oldbalanceOrg'].min()))\n",
    "bplots = plt.boxplot(dataset['oldbalanceOrg'],  vert = 0)"
   ]
  },
  {
   "cell_type": "code",
   "execution_count": 12,
   "id": "525c5dfb-8318-47b3-8c33-6fcb6b2553f3",
   "metadata": {},
   "outputs": [
    {
     "name": "stdout",
     "output_type": "stream",
     "text": [
      "| Máximo | Mediana | Mínimo | : | 49585040.37 | 0.0 | 0.0 |\n"
     ]
    },
    {
     "data": {
      "image/png": "[encoded data removed]",
      "text/plain": [
       "<Figure size 432x288 with 1 Axes>"
      ]
     },
     "metadata": {
      "needs_background": "light"
     },
     "output_type": "display_data"
    }
   ],
   "source": [
    "#Boxplot do newbalanceOrig\n",
    "print('| Máximo | Mediana | Mínimo | : | {0} | {1} | {2} |'\\\n",
    "      .format(dataset['newbalanceOrig'].max(), dataset['newbalanceOrig'].median(), dataset['newbalanceOrig'].min()))\n",
    "bplots = plt.boxplot(dataset['newbalanceOrig'],  vert = 0)"
   ]
  },
  {
   "cell_type": "code",
   "execution_count": 13,
   "id": "e720b888-46cc-4366-acc5-f05414f0df8c",
   "metadata": {},
   "outputs": [
    {
     "name": "stdout",
     "output_type": "stream",
     "text": [
      "| Máximo | Mediana | Mínimo | : | 356015889.35 | 132705.66499999998 | 0.0 |\n"
     ]
    },
    {
     "data": {
      "image/png": "[encoded data removed]",
      "text/plain": [
       "<Figure size 432x288 with 1 Axes>"
      ]
     },
     "metadata": {
      "needs_background": "light"
     },
     "output_type": "display_data"
    }
   ],
   "source": [
    "#Boxplot do oldbalanceDest\n",
    "print('| Máximo | Mediana | Mínimo | : | {0} | {1} | {2} |'\\\n",
    "      .format(dataset['oldbalanceDest'].max(), dataset['oldbalanceDest'].median(), dataset['oldbalanceDest'].min()))\n",
    "bplots = plt.boxplot(dataset['oldbalanceDest'],  vert = 0)"
   ]
  },
  {
   "cell_type": "code",
   "execution_count": 14,
   "id": "0e0b6f32-d931-4c23-a3e5-f5392fd00e67",
   "metadata": {},
   "outputs": [
    {
     "name": "stdout",
     "output_type": "stream",
     "text": [
      "| Máximo | Mediana | Mínimo | : | 356179278.92 | 214661.44 | 0.0 |\n"
     ]
    },
    {
     "data": {
      "image/png": "[encoded data removed]",
      "text/plain": [
       "<Figure size 432x288 with 1 Axes>"
      ]
     },
     "metadata": {
      "needs_background": "light"
     },
     "output_type": "display_data"
    }
   ],
   "source": [
    "#Boxplot do newbalanceDest\n",
    "print('| Máximo | Mediana | Mínimo | : | {0} | {1} | {2} |'\\\n",
    "      .format(dataset['newbalanceDest'].max(), dataset['newbalanceDest'].median(), dataset['newbalanceDest'].min()))\n",
    "bplots = plt.boxplot(dataset['newbalanceDest'],  vert = 0)"
   ]
  },
  {
   "cell_type": "code",
   "execution_count": 15,
   "id": "ea6e68ce-dde9-4df8-8f84-4366c053faca",
   "metadata": {},
   "outputs": [],
   "source": [
    "# Conclusão a partir dos boxplots dos balanços: posso reduzir o número de colunas, \n",
    "# considerar somente o valor que entrou na conta de destino e saiu da conta de origem"
   ]
  },
  {
   "cell_type": "code",
   "execution_count": 16,
   "id": "cbce257e-68d5-4194-8218-d8f153d3ee24",
   "metadata": {},
   "outputs": [
    {
     "name": "stdout",
     "output_type": "stream",
     "text": [
      "| Máximo | Mediana | Mínimo | : | 743 | 239.0 | 1 |\n"
     ]
    },
    {
     "data": {
      "image/png": "[encoded data removed]",
      "text/plain": [
       "<Figure size 432x288 with 1 Axes>"
      ]
     },
     "metadata": {
      "needs_background": "light"
     },
     "output_type": "display_data"
    }
   ],
   "source": [
    "# Boxplot da coluna step\n",
    "print('| Máximo | Mediana | Mínimo | : | {0} | {1} | {2} |'\\\n",
    "      .format(dataset['step'].max(), dataset['step'].median(), dataset['step'].min()))\n",
    "bplots = plt.boxplot(dataset['step'],  vert = 0)"
   ]
  },
  {
   "cell_type": "code",
   "execution_count": 17,
   "id": "e0f9bc18-8f76-4274-9686-31f216119692",
   "metadata": {},
   "outputs": [
    {
     "data": {
      "text/plain": [
       "<AxesSubplot:>"
      ]
     },
     "execution_count": 17,
     "metadata": {},
     "output_type": "execute_result"
    },
    {
     "data": {
      "image/png": "[encoded data removed]",
      "text/plain": [
       "<Figure size 432x288 with 2 Axes>"
      ]
     },
     "metadata": {
      "needs_background": "light"
     },
     "output_type": "display_data"
    }
   ],
   "source": [
    "heatmap(dataset.corr())"
   ]
  },
  {
   "cell_type": "code",
   "execution_count": 18,
   "id": "ab49e023-c91e-41b0-9298-9ddd16c8e9d3",
   "metadata": {},
   "outputs": [
    {
     "data": {
      "text/html": [
       "<div>\n",
       "<style scoped>\n",
       "    .dataframe tbody tr th:only-of-type {\n",
       "        vertical-align: middle;\n",
       "    }\n",
       "\n",
       "    .dataframe tbody tr th {\n",
       "        vertical-align: top;\n",
       "    }\n",
       "\n",
       "    .dataframe thead th {\n",
       "        text-align: right;\n",
       "    }\n",
       "</style>\n",
       "<table border=\"1\" class=\"dataframe\">\n",
       "  <thead>\n",
       "    <tr style=\"text-align: right;\">\n",
       "      <th></th>\n",
       "      <th>amount</th>\n",
       "      <th>oldbalanceOrg</th>\n",
       "      <th>newbalanceOrig</th>\n",
       "      <th>oldbalanceDest</th>\n",
       "      <th>newbalanceDest</th>\n",
       "      <th>type_CASH_IN</th>\n",
       "      <th>type_CASH_OUT</th>\n",
       "      <th>type_DEBIT</th>\n",
       "      <th>type_PAYMENT</th>\n",
       "      <th>type_TRANSFER</th>\n",
       "    </tr>\n",
       "  </thead>\n",
       "  <tbody>\n",
       "    <tr>\n",
       "      <th>0</th>\n",
       "      <td>9839.64</td>\n",
       "      <td>170136.0</td>\n",
       "      <td>160296.36</td>\n",
       "      <td>0.0</td>\n",
       "      <td>0.0</td>\n",
       "      <td>0</td>\n",
       "      <td>0</td>\n",
       "      <td>0</td>\n",
       "      <td>1</td>\n",
       "      <td>0</td>\n",
       "    </tr>\n",
       "    <tr>\n",
       "      <th>1</th>\n",
       "      <td>1864.28</td>\n",
       "      <td>21249.0</td>\n",
       "      <td>19384.72</td>\n",
       "      <td>0.0</td>\n",
       "      <td>0.0</td>\n",
       "      <td>0</td>\n",
       "      <td>0</td>\n",
       "      <td>0</td>\n",
       "      <td>1</td>\n",
       "      <td>0</td>\n",
       "    </tr>\n",
       "    <tr>\n",
       "      <th>2</th>\n",
       "      <td>181.00</td>\n",
       "      <td>181.0</td>\n",
       "      <td>0.00</td>\n",
       "      <td>0.0</td>\n",
       "      <td>0.0</td>\n",
       "      <td>0</td>\n",
       "      <td>0</td>\n",
       "      <td>0</td>\n",
       "      <td>0</td>\n",
       "      <td>1</td>\n",
       "    </tr>\n",
       "    <tr>\n",
       "      <th>3</th>\n",
       "      <td>181.00</td>\n",
       "      <td>181.0</td>\n",
       "      <td>0.00</td>\n",
       "      <td>21182.0</td>\n",
       "      <td>0.0</td>\n",
       "      <td>0</td>\n",
       "      <td>1</td>\n",
       "      <td>0</td>\n",
       "      <td>0</td>\n",
       "      <td>0</td>\n",
       "    </tr>\n",
       "    <tr>\n",
       "      <th>4</th>\n",
       "      <td>11668.14</td>\n",
       "      <td>41554.0</td>\n",
       "      <td>29885.86</td>\n",
       "      <td>0.0</td>\n",
       "      <td>0.0</td>\n",
       "      <td>0</td>\n",
       "      <td>0</td>\n",
       "      <td>0</td>\n",
       "      <td>1</td>\n",
       "      <td>0</td>\n",
       "    </tr>\n",
       "  </tbody>\n",
       "</table>\n",
       "</div>"
      ],
      "text/plain": [
       "     amount  oldbalanceOrg  newbalanceOrig  oldbalanceDest  newbalanceDest  \\\n",
       "0   9839.64       170136.0       160296.36             0.0             0.0   \n",
       "1   1864.28        21249.0        19384.72             0.0             0.0   \n",
       "2    181.00          181.0            0.00             0.0             0.0   \n",
       "3    181.00          181.0            0.00         21182.0             0.0   \n",
       "4  11668.14        41554.0        29885.86             0.0             0.0   \n",
       "\n",
       "   type_CASH_IN  type_CASH_OUT  type_DEBIT  type_PAYMENT  type_TRANSFER  \n",
       "0             0              0           0             1              0  \n",
       "1             0              0           0             1              0  \n",
       "2             0              0           0             0              1  \n",
       "3             0              1           0             0              0  \n",
       "4             0              0           0             1              0  "
      ]
     },
     "execution_count": 18,
     "metadata": {},
     "output_type": "execute_result"
    }
   ],
   "source": [
    "#Transformação do dataset, seleção das features\n",
    "\n",
    "dataset['balanceDeltaOrig'] = original_dataset['newbalanceOrig'] - original_dataset['oldbalanceOrg']\n",
    "dataset['balanceDeltaDest'] = original_dataset['newbalanceDest'] - original_dataset['oldbalanceDest']\n",
    "\n",
    "feature_cols = ['amount','oldbalanceOrg', 'newbalanceOrig', 'oldbalanceDest', 'newbalanceDest']\n",
    "target_col = 'isFraud'\n",
    "\n",
    "dummy_columns = ['type']\n",
    "\n",
    "prepared_dummy_columns = pd.get_dummies(dataset[dummy_columns])\n",
    "\n",
    "combined = pd.concat([dataset, prepared_dummy_columns], axis=1)\n",
    "\n",
    "feature_cols.extend(prepared_dummy_columns.columns.values.tolist())\n",
    "\n",
    "X = combined[feature_cols]\n",
    "y = combined[target_col]\n",
    "\n",
    "X.head()"
   ]
  },
  {
   "cell_type": "code",
   "execution_count": 24,
   "id": "af257dd3-bf82-4d21-a0d7-0a2615587514",
   "metadata": {},
   "outputs": [
    {
     "name": "stdout",
     "output_type": "stream",
     "text": [
      "| Train accuracy | Test accuracy | : | 1.0 | 0.999789394934791 |\n"
     ]
    }
   ],
   "source": [
    "#Treino\n",
    "test_percentage = 0.05\n",
    "X_train, X_test, y_train, y_test = \\\n",
    "    train_test_split(X, y, test_size=test_percentage)\n",
    "\n",
    "# Criação do classificador de árvore de decisão \n",
    "clf = DecisionTreeClassifier(criterion=\"entropy\")\n",
    "\n",
    "# Usamos o método fit para construir o classificador a partir do nosso conjunto de treinamento\n",
    "clf = clf.fit(X_train, y_train)\n",
    "\n",
    "train_accuracy = clf.score(X_train, y_train)\n",
    "\n",
    "# Usando modelo para classificar os dados que temos a disposição\n",
    "y_pred = clf.predict(X_test)\n",
    "test_accuracy = metrics.accuracy_score(y_test, y_pred)\n",
    "\n",
    "print('| Train accuracy | Test accuracy | : | {0} | {1} |'.format(train_accuracy, test_accuracy))"
   ]
  },
  {
   "cell_type": "code",
   "execution_count": 21,
   "id": "92fe195f-5cb8-426c-a141-7aad9e553d4c",
   "metadata": {},
   "outputs": [],
   "source": [
    "#print_decision_tree(clf, X.columns)"
   ]
  },
  {
   "cell_type": "code",
   "execution_count": null,
   "id": "75c33299-d4e2-4eb2-9988-2e5d0da44bf6",
   "metadata": {},
   "outputs": [],
   "source": [
    "#Teste\n",
    "random_element = random.randint(0, len(X))\n",
    "sample = X.iloc[[random_element]]\n",
    "target_of_sample = y.iloc[[random_element]]\n",
    "\n",
    "pred_sample = clf.predict(sample)\n",
    "\n",
    "print(pred_sample)\n",
    "print(target_of_sample)"
   ]
  }
 ],
 "metadata": {
  "colab": {
   "include_colab_link": true,
   "name": "arvore-decisao-parte2.ipynb",
   "provenance": []
  },
  "kernelspec": {
   "display_name": "Python 3 (ipykernel)",
   "language": "python",
   "name": "python3"
  },
  "language_info": {
   "codemirror_mode": {
    "name": "ipython",
    "version": 3
   },
   "file_extension": ".py",
   "mimetype": "text/x-python",
   "name": "python",
   "nbconvert_exporter": "python",
   "pygments_lexer": "ipython3",
   "version": "3.10.5"
  }
 },
 "nbformat": 4,
 "nbformat_minor": 5
}
