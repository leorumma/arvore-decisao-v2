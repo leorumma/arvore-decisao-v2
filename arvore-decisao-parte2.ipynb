{
  "cells": [
    {
      "cell_type": "markdown",
      "metadata": {
        "id": "view-in-github",
        "colab_type": "text"
      },
      "source": [
        "<a href=\"https://colab.research.google.com/github/leorumma/arvore-decisao-v2/blob/main/arvore-decisao-parte2.ipynb\" target=\"_parent\"><img src=\"https://colab.research.google.com/assets/colab-badge.svg\" alt=\"Open In Colab\"/></a>"
      ]
    },
    {
      "cell_type": "code",
      "execution_count": 2,
      "id": "a344f771",
      "metadata": {
        "id": "a344f771"
      },
      "outputs": [],
      "source": [
        "import pandas as pd\n",
        "from sklearn.tree import DecisionTreeClassifier\n",
        "from sklearn import metrics\n",
        "from sklearn.model_selection import train_test_split\n",
        "from sklearn.model_selection import KFold\n",
        "from seaborn import heatmap"
      ]
    },
    {
      "cell_type": "code",
      "execution_count": 3,
      "id": "413230d5-5606-46f0-94b2-f976ea0b6913",
      "metadata": {
        "id": "413230d5-5606-46f0-94b2-f976ea0b6913"
      },
      "outputs": [],
      "source": [
        "#link para o dataset: \n",
        "DATASET_URL = 'https://drive.google.com/uc?id=1JCdSHO1lHj06qpV92tigrovhzJQbcr1h&confirm=t'\n",
        "dataset = pd.read_csv(DATASET_URL)"
      ]
    },
    {
      "cell_type": "code",
      "execution_count": 4,
      "id": "60b67e06-240f-45a0-8a24-9c7703d5cace",
      "metadata": {
        "id": "60b67e06-240f-45a0-8a24-9c7703d5cace",
        "outputId": "dff6ab88-deb5-4273-a4fb-4c0235daed9a",
        "colab": {
          "base_uri": "https://localhost:8080/"
        }
      },
      "outputs": [
        {
          "output_type": "stream",
          "name": "stdout",
          "text": [
            "               step        amount  oldbalanceOrg  newbalanceOrig  \\\n",
            "count  6.362620e+06  6.362620e+06   6.362620e+06    6.362620e+06   \n",
            "mean   2.433972e+02  1.798619e+05   8.338831e+05    8.551137e+05   \n",
            "std    1.423320e+02  6.038582e+05   2.888243e+06    2.924049e+06   \n",
            "min    1.000000e+00  0.000000e+00   0.000000e+00    0.000000e+00   \n",
            "25%    1.560000e+02  1.338957e+04   0.000000e+00    0.000000e+00   \n",
            "50%    2.390000e+02  7.487194e+04   1.420800e+04    0.000000e+00   \n",
            "75%    3.350000e+02  2.087215e+05   1.073152e+05    1.442584e+05   \n",
            "max    7.430000e+02  9.244552e+07   5.958504e+07    4.958504e+07   \n",
            "\n",
            "       oldbalanceDest  newbalanceDest       isFraud  isFlaggedFraud  \n",
            "count    6.362620e+06    6.362620e+06  6.362620e+06    6.362620e+06  \n",
            "mean     1.100702e+06    1.224996e+06  1.290820e-03    2.514687e-06  \n",
            "std      3.399180e+06    3.674129e+06  3.590480e-02    1.585775e-03  \n",
            "min      0.000000e+00    0.000000e+00  0.000000e+00    0.000000e+00  \n",
            "25%      0.000000e+00    0.000000e+00  0.000000e+00    0.000000e+00  \n",
            "50%      1.327057e+05    2.146614e+05  0.000000e+00    0.000000e+00  \n",
            "75%      9.430367e+05    1.111909e+06  0.000000e+00    0.000000e+00  \n",
            "max      3.560159e+08    3.561793e+08  1.000000e+00    1.000000e+00  \n"
          ]
        }
      ],
      "source": [
        "print(dataset.describe())"
      ]
    },
    {
      "cell_type": "code",
      "execution_count": 5,
      "id": "c39ac4b1-a021-4e64-8b0e-1592a9eefa18",
      "metadata": {
        "id": "c39ac4b1-a021-4e64-8b0e-1592a9eefa18"
      },
      "outputs": [],
      "source": [
        "#Iniciando análise exploratória dos dados"
      ]
    },
    {
      "cell_type": "code",
      "execution_count": 6,
      "id": "e0f9bc18-8f76-4274-9686-31f216119692",
      "metadata": {
        "id": "e0f9bc18-8f76-4274-9686-31f216119692",
        "outputId": "e1d0ba3a-76f0-457e-e439-602b413efc2f",
        "colab": {
          "base_uri": "https://localhost:8080/",
          "height": 359
        }
      },
      "outputs": [
        {
          "output_type": "execute_result",
          "data": {
            "text/plain": [
              "<AxesSubplot:>"
            ]
          },
          "metadata": {},
          "execution_count": 6
        },
        {
          "output_type": "display_data",
          "data": {
            "text/plain": [
              "<Figure size 432x288 with 2 Axes>"
            ],
            "image/png": "[encoded data removed]"
          },
          "metadata": {
            "needs_background": "light"
          }
        }
      ],
      "source": [
        "heatmap(dataset.corr())"
      ]
    }
  ],
  "metadata": {
    "colab": {
      "name": "arvore-decisao-parte2.ipynb",
      "provenance": [],
      "include_colab_link": true
    },
    "kernelspec": {
      "display_name": "Python 3 (ipykernel)",
      "language": "python",
      "name": "python3"
    },
    "language_info": {
      "codemirror_mode": {
        "name": "ipython",
        "version": 3
      },
      "file_extension": ".py",
      "mimetype": "text/x-python",
      "name": "python",
      "nbconvert_exporter": "python",
      "pygments_lexer": "ipython3",
      "version": "3.10.5"
    }
  },
  "nbformat": 4,
  "nbformat_minor": 5
}