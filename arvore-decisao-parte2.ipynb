{
 "cells": [
  {
   "cell_type": "markdown",
   "id": "d209c204",
   "metadata": {
    "colab_type": "text",
    "id": "view-in-github",
    "pycharm": {
     "name": "#%% md\n"
    }
   },
   "source": [
    "<a href=\"https://colab.research.google.com/github/leorumma/arvore-decisao-v2/blob/main/arvore-decisao-parte2.ipynb\" target=\"_parent\"><img src=\"https://colab.research.google.com/assets/colab-badge.svg\" alt=\"Open In Colab\"/></a>"
   ]
  },
  {
   "cell_type": "code",
   "execution_count": 1,
   "id": "a344f771",
   "metadata": {
    "ExecuteTime": {
     "end_time": "2022-07-17T19:13:07.425232Z",
     "start_time": "2022-07-17T19:13:07.417227Z"
    },
    "id": "a344f771",
    "pycharm": {
     "name": "#%%\n"
    }
   },
   "outputs": [],
   "source": [
    "import pandas as pd\n",
    "from sklearn.tree import DecisionTreeClassifier\n",
    "from sklearn import metrics\n",
    "from sklearn.model_selection import train_test_split\n",
    "from sklearn.model_selection import KFold\n",
    "from seaborn import heatmap\n",
    "import matplotlib.pyplot as plt\n",
    "import random\n",
    "\n",
    "#criar os gráficos das árvores de decisão\n",
    "from sklearn.tree import export_graphviz\n",
    "from six import StringIO\n",
    "from IPython.display import Image  \n",
    "import pydotplus"
   ]
  },
  {
   "cell_type": "code",
   "execution_count": 2,
   "id": "6cc9b5c2-0e25-424d-b1a1-505abbb050b5",
   "metadata": {
    "ExecuteTime": {
     "end_time": "2022-07-17T19:13:07.455114Z",
     "start_time": "2022-07-17T19:13:07.429506Z"
    },
    "pycharm": {
     "name": "#%%\n"
    }
   },
   "outputs": [],
   "source": [
    "def generate_decision_tree_png(decision_tree_clf, feature_names, file_name = 'arvore1.png'):\n",
    "    # tem que usar feature_names = one_hot_data.columns pois feature_names = feature_cols tem menos atributos\n",
    "    # pois o one-hot acrescenta mais\n",
    "    dot_data = StringIO()\n",
    "    export_graphviz(decision_tree_clf, out_file=dot_data,  \n",
    "                    filled=True, rounded=True,\n",
    "                    special_characters=True,feature_names = feature_names, class_names=['No','Yes'])\n",
    "    graph = pydotplus.graph_from_dot_data(dot_data.getvalue())  \n",
    "    graph.write_png(file_name)\n",
    "    \n",
    "    #clf_image_png = graph.create_png()\n",
    "    #Image(clf_image_png)"
   ]
  },
  {
   "cell_type": "code",
   "execution_count": 3,
   "id": "413230d5-5606-46f0-94b2-f976ea0b6913",
   "metadata": {
    "ExecuteTime": {
     "end_time": "2022-07-17T19:13:10.898789Z",
     "start_time": "2022-07-17T19:13:07.458116Z"
    },
    "pycharm": {
     "name": "#%%\n"
    }
   },
   "outputs": [],
   "source": [
    "#Link do Kaggle: https://www.kaggle.com/datasets/ayessa/salary-prediction-classification\n",
    "#link para o dataset: \n",
    "#DATASET_URL = 'salary.csv'\n",
    "DATASET_URL = 'https://drive.google.com/uc?id=1s399YQ12qvuwmrpuKxRlv3rCBne2Cs4Q&confirm=t'\n",
    "dataset = pd.read_csv(DATASET_URL)\n",
    "original_dataset = dataset.copy()"
   ]
  },
  {
   "cell_type": "code",
   "execution_count": 4,
   "id": "b723b5ad",
   "metadata": {
    "ExecuteTime": {
     "end_time": "2022-07-17T19:13:10.930151Z",
     "start_time": "2022-07-17T19:13:10.902573Z"
    }
   },
   "outputs": [
    {
     "data": {
      "text/html": [
       "<div>\n",
       "<style scoped>\n",
       "    .dataframe tbody tr th:only-of-type {\n",
       "        vertical-align: middle;\n",
       "    }\n",
       "\n",
       "    .dataframe tbody tr th {\n",
       "        vertical-align: top;\n",
       "    }\n",
       "\n",
       "    .dataframe thead th {\n",
       "        text-align: right;\n",
       "    }\n",
       "</style>\n",
       "<table border=\"1\" class=\"dataframe\">\n",
       "  <thead>\n",
       "    <tr style=\"text-align: right;\">\n",
       "      <th></th>\n",
       "      <th>age</th>\n",
       "      <th>workclass</th>\n",
       "      <th>fnlwgt</th>\n",
       "      <th>education</th>\n",
       "      <th>education-num</th>\n",
       "      <th>marital-status</th>\n",
       "      <th>occupation</th>\n",
       "      <th>relationship</th>\n",
       "      <th>race</th>\n",
       "      <th>sex</th>\n",
       "      <th>capital-gain</th>\n",
       "      <th>capital-loss</th>\n",
       "      <th>hours-per-week</th>\n",
       "      <th>native-country</th>\n",
       "      <th>salary</th>\n",
       "    </tr>\n",
       "  </thead>\n",
       "  <tbody>\n",
       "    <tr>\n",
       "      <th>0</th>\n",
       "      <td>39</td>\n",
       "      <td>State-gov</td>\n",
       "      <td>77516</td>\n",
       "      <td>Bachelors</td>\n",
       "      <td>13</td>\n",
       "      <td>Never-married</td>\n",
       "      <td>Adm-clerical</td>\n",
       "      <td>Not-in-family</td>\n",
       "      <td>White</td>\n",
       "      <td>Male</td>\n",
       "      <td>2174</td>\n",
       "      <td>0</td>\n",
       "      <td>40</td>\n",
       "      <td>United-States</td>\n",
       "      <td>&lt;=50K</td>\n",
       "    </tr>\n",
       "    <tr>\n",
       "      <th>1</th>\n",
       "      <td>50</td>\n",
       "      <td>Self-emp-not-inc</td>\n",
       "      <td>83311</td>\n",
       "      <td>Bachelors</td>\n",
       "      <td>13</td>\n",
       "      <td>Married-civ-spouse</td>\n",
       "      <td>Exec-managerial</td>\n",
       "      <td>Husband</td>\n",
       "      <td>White</td>\n",
       "      <td>Male</td>\n",
       "      <td>0</td>\n",
       "      <td>0</td>\n",
       "      <td>13</td>\n",
       "      <td>United-States</td>\n",
       "      <td>&lt;=50K</td>\n",
       "    </tr>\n",
       "    <tr>\n",
       "      <th>2</th>\n",
       "      <td>38</td>\n",
       "      <td>Private</td>\n",
       "      <td>215646</td>\n",
       "      <td>HS-grad</td>\n",
       "      <td>9</td>\n",
       "      <td>Divorced</td>\n",
       "      <td>Handlers-cleaners</td>\n",
       "      <td>Not-in-family</td>\n",
       "      <td>White</td>\n",
       "      <td>Male</td>\n",
       "      <td>0</td>\n",
       "      <td>0</td>\n",
       "      <td>40</td>\n",
       "      <td>United-States</td>\n",
       "      <td>&lt;=50K</td>\n",
       "    </tr>\n",
       "    <tr>\n",
       "      <th>3</th>\n",
       "      <td>53</td>\n",
       "      <td>Private</td>\n",
       "      <td>234721</td>\n",
       "      <td>11th</td>\n",
       "      <td>7</td>\n",
       "      <td>Married-civ-spouse</td>\n",
       "      <td>Handlers-cleaners</td>\n",
       "      <td>Husband</td>\n",
       "      <td>Black</td>\n",
       "      <td>Male</td>\n",
       "      <td>0</td>\n",
       "      <td>0</td>\n",
       "      <td>40</td>\n",
       "      <td>United-States</td>\n",
       "      <td>&lt;=50K</td>\n",
       "    </tr>\n",
       "    <tr>\n",
       "      <th>4</th>\n",
       "      <td>28</td>\n",
       "      <td>Private</td>\n",
       "      <td>338409</td>\n",
       "      <td>Bachelors</td>\n",
       "      <td>13</td>\n",
       "      <td>Married-civ-spouse</td>\n",
       "      <td>Prof-specialty</td>\n",
       "      <td>Wife</td>\n",
       "      <td>Black</td>\n",
       "      <td>Female</td>\n",
       "      <td>0</td>\n",
       "      <td>0</td>\n",
       "      <td>40</td>\n",
       "      <td>Cuba</td>\n",
       "      <td>&lt;=50K</td>\n",
       "    </tr>\n",
       "  </tbody>\n",
       "</table>\n",
       "</div>"
      ],
      "text/plain": [
       "   age          workclass  fnlwgt   education  education-num  \\\n",
       "0   39          State-gov   77516   Bachelors             13   \n",
       "1   50   Self-emp-not-inc   83311   Bachelors             13   \n",
       "2   38            Private  215646     HS-grad              9   \n",
       "3   53            Private  234721        11th              7   \n",
       "4   28            Private  338409   Bachelors             13   \n",
       "\n",
       "        marital-status          occupation    relationship    race      sex  \\\n",
       "0        Never-married        Adm-clerical   Not-in-family   White     Male   \n",
       "1   Married-civ-spouse     Exec-managerial         Husband   White     Male   \n",
       "2             Divorced   Handlers-cleaners   Not-in-family   White     Male   \n",
       "3   Married-civ-spouse   Handlers-cleaners         Husband   Black     Male   \n",
       "4   Married-civ-spouse      Prof-specialty            Wife   Black   Female   \n",
       "\n",
       "   capital-gain  capital-loss  hours-per-week  native-country  salary  \n",
       "0          2174             0              40   United-States   <=50K  \n",
       "1             0             0              13   United-States   <=50K  \n",
       "2             0             0              40   United-States   <=50K  \n",
       "3             0             0              40   United-States   <=50K  \n",
       "4             0             0              40            Cuba   <=50K  "
      ]
     },
     "execution_count": 4,
     "metadata": {},
     "output_type": "execute_result"
    }
   ],
   "source": [
    "dataset.head()"
   ]
  },
  {
   "cell_type": "code",
   "execution_count": 5,
   "id": "60b67e06-240f-45a0-8a24-9c7703d5cace",
   "metadata": {
    "ExecuteTime": {
     "end_time": "2022-07-17T19:13:10.978156Z",
     "start_time": "2022-07-17T19:13:10.933162Z"
    },
    "pycharm": {
     "name": "#%%\n"
    }
   },
   "outputs": [
    {
     "data": {
      "text/html": [
       "<div>\n",
       "<style scoped>\n",
       "    .dataframe tbody tr th:only-of-type {\n",
       "        vertical-align: middle;\n",
       "    }\n",
       "\n",
       "    .dataframe tbody tr th {\n",
       "        vertical-align: top;\n",
       "    }\n",
       "\n",
       "    .dataframe thead th {\n",
       "        text-align: right;\n",
       "    }\n",
       "</style>\n",
       "<table border=\"1\" class=\"dataframe\">\n",
       "  <thead>\n",
       "    <tr style=\"text-align: right;\">\n",
       "      <th></th>\n",
       "      <th>age</th>\n",
       "      <th>fnlwgt</th>\n",
       "      <th>education-num</th>\n",
       "      <th>capital-gain</th>\n",
       "      <th>capital-loss</th>\n",
       "      <th>hours-per-week</th>\n",
       "    </tr>\n",
       "  </thead>\n",
       "  <tbody>\n",
       "    <tr>\n",
       "      <th>count</th>\n",
       "      <td>32561.000000</td>\n",
       "      <td>3.256100e+04</td>\n",
       "      <td>32561.000000</td>\n",
       "      <td>32561.000000</td>\n",
       "      <td>32561.000000</td>\n",
       "      <td>32561.000000</td>\n",
       "    </tr>\n",
       "    <tr>\n",
       "      <th>mean</th>\n",
       "      <td>38.581647</td>\n",
       "      <td>1.897784e+05</td>\n",
       "      <td>10.080679</td>\n",
       "      <td>1077.648844</td>\n",
       "      <td>87.303830</td>\n",
       "      <td>40.437456</td>\n",
       "    </tr>\n",
       "    <tr>\n",
       "      <th>std</th>\n",
       "      <td>13.640433</td>\n",
       "      <td>1.055500e+05</td>\n",
       "      <td>2.572720</td>\n",
       "      <td>7385.292085</td>\n",
       "      <td>402.960219</td>\n",
       "      <td>12.347429</td>\n",
       "    </tr>\n",
       "    <tr>\n",
       "      <th>min</th>\n",
       "      <td>17.000000</td>\n",
       "      <td>1.228500e+04</td>\n",
       "      <td>1.000000</td>\n",
       "      <td>0.000000</td>\n",
       "      <td>0.000000</td>\n",
       "      <td>1.000000</td>\n",
       "    </tr>\n",
       "    <tr>\n",
       "      <th>25%</th>\n",
       "      <td>28.000000</td>\n",
       "      <td>1.178270e+05</td>\n",
       "      <td>9.000000</td>\n",
       "      <td>0.000000</td>\n",
       "      <td>0.000000</td>\n",
       "      <td>40.000000</td>\n",
       "    </tr>\n",
       "    <tr>\n",
       "      <th>50%</th>\n",
       "      <td>37.000000</td>\n",
       "      <td>1.783560e+05</td>\n",
       "      <td>10.000000</td>\n",
       "      <td>0.000000</td>\n",
       "      <td>0.000000</td>\n",
       "      <td>40.000000</td>\n",
       "    </tr>\n",
       "    <tr>\n",
       "      <th>75%</th>\n",
       "      <td>48.000000</td>\n",
       "      <td>2.370510e+05</td>\n",
       "      <td>12.000000</td>\n",
       "      <td>0.000000</td>\n",
       "      <td>0.000000</td>\n",
       "      <td>45.000000</td>\n",
       "    </tr>\n",
       "    <tr>\n",
       "      <th>max</th>\n",
       "      <td>90.000000</td>\n",
       "      <td>1.484705e+06</td>\n",
       "      <td>16.000000</td>\n",
       "      <td>99999.000000</td>\n",
       "      <td>4356.000000</td>\n",
       "      <td>99.000000</td>\n",
       "    </tr>\n",
       "  </tbody>\n",
       "</table>\n",
       "</div>"
      ],
      "text/plain": [
       "                age        fnlwgt  education-num  capital-gain  capital-loss  \\\n",
       "count  32561.000000  3.256100e+04   32561.000000  32561.000000  32561.000000   \n",
       "mean      38.581647  1.897784e+05      10.080679   1077.648844     87.303830   \n",
       "std       13.640433  1.055500e+05       2.572720   7385.292085    402.960219   \n",
       "min       17.000000  1.228500e+04       1.000000      0.000000      0.000000   \n",
       "25%       28.000000  1.178270e+05       9.000000      0.000000      0.000000   \n",
       "50%       37.000000  1.783560e+05      10.000000      0.000000      0.000000   \n",
       "75%       48.000000  2.370510e+05      12.000000      0.000000      0.000000   \n",
       "max       90.000000  1.484705e+06      16.000000  99999.000000   4356.000000   \n",
       "\n",
       "       hours-per-week  \n",
       "count    32561.000000  \n",
       "mean        40.437456  \n",
       "std         12.347429  \n",
       "min          1.000000  \n",
       "25%         40.000000  \n",
       "50%         40.000000  \n",
       "75%         45.000000  \n",
       "max         99.000000  "
      ]
     },
     "execution_count": 5,
     "metadata": {},
     "output_type": "execute_result"
    }
   ],
   "source": [
    "dataset.describe()"
   ]
  },
  {
   "cell_type": "code",
   "execution_count": 6,
   "id": "c39ac4b1-a021-4e64-8b0e-1592a9eefa18",
   "metadata": {
    "ExecuteTime": {
     "end_time": "2022-07-17T19:13:10.994156Z",
     "start_time": "2022-07-17T19:13:10.981158Z"
    },
    "pycharm": {
     "name": "#%%\n"
    }
   },
   "outputs": [],
   "source": [
    "#Iniciando análise exploratória dos dados"
   ]
  },
  {
   "cell_type": "code",
   "execution_count": 7,
   "id": "b315cc0a-7030-43cb-8a10-9d99080c6208",
   "metadata": {
    "ExecuteTime": {
     "end_time": "2022-07-17T19:13:11.058158Z",
     "start_time": "2022-07-17T19:13:10.997161Z"
    },
    "pycharm": {
     "name": "#%%\n"
    }
   },
   "outputs": [
    {
     "name": "stdout",
     "output_type": "stream",
     "text": [
      "32561\n",
      "32561\n"
     ]
    }
   ],
   "source": [
    "#Sem valores não preenchidos nas colunas\n",
    "print(len(dataset))\n",
    "print(len(dataset.dropna()))"
   ]
  },
  {
   "cell_type": "code",
   "execution_count": 8,
   "id": "e75cc066-f169-44b5-b111-ab485f331948",
   "metadata": {
    "ExecuteTime": {
     "end_time": "2022-07-17T19:13:11.074153Z",
     "start_time": "2022-07-17T19:13:11.061161Z"
    },
    "pycharm": {
     "name": "#%%\n"
    }
   },
   "outputs": [
    {
     "name": "stdout",
     "output_type": "stream",
     "text": [
      "Index(['age', 'workclass', 'fnlwgt', 'education', 'education-num',\n",
      "       'marital-status', 'occupation', 'relationship', 'race', 'sex',\n",
      "       'capital-gain', 'capital-loss', 'hours-per-week', 'native-country',\n",
      "       'salary'],\n",
      "      dtype='object')\n"
     ]
    }
   ],
   "source": [
    "print(dataset.columns)"
   ]
  },
  {
   "cell_type": "code",
   "execution_count": 9,
   "id": "3501f737-a76a-4fe7-874f-d07e8ecda2c9",
   "metadata": {
    "ExecuteTime": {
     "end_time": "2022-07-17T19:13:11.090148Z",
     "start_time": "2022-07-17T19:13:11.077160Z"
    },
    "pycharm": {
     "name": "#%%\n"
    }
   },
   "outputs": [
    {
     "name": "stdout",
     "output_type": "stream",
     "text": [
      "[' State-gov' ' Self-emp-not-inc' ' Private' ' Federal-gov' ' Local-gov'\n",
      " ' ?' ' Self-emp-inc' ' Without-pay' ' Never-worked']\n",
      "9\n"
     ]
    }
   ],
   "source": [
    "#tipos workclass\n",
    "workclass_unique_values = dataset['workclass'].unique()\n",
    "print(workclass_unique_values)\n",
    "print(len(workclass_unique_values))\n",
    "\n",
    "#Conclusão: podemos(e faz sentido) categorizar esses dados e utilizarmos para treinar nosso classificador"
   ]
  },
  {
   "cell_type": "code",
   "execution_count": 10,
   "id": "5262b2e0",
   "metadata": {
    "ExecuteTime": {
     "end_time": "2022-07-17T19:13:11.106154Z",
     "start_time": "2022-07-17T19:13:11.095164Z"
    },
    "collapsed": false,
    "jupyter": {
     "outputs_hidden": false
    },
    "pycharm": {
     "name": "#%%\n"
    }
   },
   "outputs": [
    {
     "name": "stdout",
     "output_type": "stream",
     "text": [
      "[' Bachelors' ' HS-grad' ' 11th' ' Masters' ' 9th' ' Some-college'\n",
      " ' Assoc-acdm' ' Assoc-voc' ' 7th-8th' ' Doctorate' ' Prof-school'\n",
      " ' 5th-6th' ' 10th' ' 1st-4th' ' Preschool' ' 12th']\n",
      "16\n"
     ]
    }
   ],
   "source": [
    "#tipos education\n",
    "education_unique_values = dataset['education'].unique()\n",
    "print(education_unique_values)\n",
    "print(len(education_unique_values))"
   ]
  },
  {
   "cell_type": "code",
   "execution_count": 11,
   "id": "a091e7e9",
   "metadata": {
    "ExecuteTime": {
     "end_time": "2022-07-17T19:13:11.121152Z",
     "start_time": "2022-07-17T19:13:11.109161Z"
    },
    "collapsed": false,
    "jupyter": {
     "outputs_hidden": false
    },
    "pycharm": {
     "name": "#%%\n"
    }
   },
   "outputs": [
    {
     "name": "stdout",
     "output_type": "stream",
     "text": [
      "[' Never-married' ' Married-civ-spouse' ' Divorced'\n",
      " ' Married-spouse-absent' ' Separated' ' Married-AF-spouse' ' Widowed']\n",
      "7\n"
     ]
    }
   ],
   "source": [
    "#tipos marital-status\n",
    "marital_status_unique_values = dataset['marital-status'].unique()\n",
    "print(marital_status_unique_values)\n",
    "print(len(marital_status_unique_values))"
   ]
  },
  {
   "cell_type": "code",
   "execution_count": 12,
   "id": "b006d2e2",
   "metadata": {
    "ExecuteTime": {
     "end_time": "2022-07-17T19:13:11.137149Z",
     "start_time": "2022-07-17T19:13:11.125164Z"
    },
    "collapsed": false,
    "jupyter": {
     "outputs_hidden": false
    },
    "pycharm": {
     "name": "#%%\n"
    }
   },
   "outputs": [
    {
     "name": "stdout",
     "output_type": "stream",
     "text": [
      "[' Adm-clerical' ' Exec-managerial' ' Handlers-cleaners' ' Prof-specialty'\n",
      " ' Other-service' ' Sales' ' Craft-repair' ' Transport-moving'\n",
      " ' Farming-fishing' ' Machine-op-inspct' ' Tech-support' ' ?'\n",
      " ' Protective-serv' ' Armed-Forces' ' Priv-house-serv']\n",
      "15\n"
     ]
    }
   ],
   "source": [
    "#tipos occupation\n",
    "occupation_unique_values = dataset['occupation'].unique()\n",
    "print(occupation_unique_values)\n",
    "print(len(occupation_unique_values))"
   ]
  },
  {
   "cell_type": "code",
   "execution_count": 13,
   "id": "04f59efd",
   "metadata": {
    "ExecuteTime": {
     "end_time": "2022-07-17T19:13:11.152154Z",
     "start_time": "2022-07-17T19:13:11.140163Z"
    },
    "collapsed": false,
    "jupyter": {
     "outputs_hidden": false
    },
    "pycharm": {
     "name": "#%%\n"
    }
   },
   "outputs": [
    {
     "name": "stdout",
     "output_type": "stream",
     "text": [
      "[' Not-in-family' ' Husband' ' Wife' ' Own-child' ' Unmarried'\n",
      " ' Other-relative']\n",
      "6\n"
     ]
    }
   ],
   "source": [
    "#tipos relationship\n",
    "relationship_unique_values = dataset['relationship'].unique()\n",
    "print(relationship_unique_values)\n",
    "print(len(relationship_unique_values))"
   ]
  },
  {
   "cell_type": "code",
   "execution_count": 14,
   "id": "eaf967f1",
   "metadata": {
    "ExecuteTime": {
     "end_time": "2022-07-17T19:13:11.168149Z",
     "start_time": "2022-07-17T19:13:11.155158Z"
    },
    "collapsed": false,
    "jupyter": {
     "outputs_hidden": false
    },
    "pycharm": {
     "name": "#%%\n"
    }
   },
   "outputs": [
    {
     "name": "stdout",
     "output_type": "stream",
     "text": [
      "[' White' ' Black' ' Asian-Pac-Islander' ' Amer-Indian-Eskimo' ' Other']\n",
      "5\n"
     ]
    }
   ],
   "source": [
    "#tipos race\n",
    "race_unique_values = dataset['race'].unique()\n",
    "print(race_unique_values)\n",
    "print(len(race_unique_values))"
   ]
  },
  {
   "cell_type": "code",
   "execution_count": 15,
   "id": "28ec7c03",
   "metadata": {
    "ExecuteTime": {
     "end_time": "2022-07-17T19:13:11.184156Z",
     "start_time": "2022-07-17T19:13:11.171166Z"
    },
    "collapsed": false,
    "jupyter": {
     "outputs_hidden": false
    },
    "pycharm": {
     "name": "#%%\n"
    }
   },
   "outputs": [
    {
     "name": "stdout",
     "output_type": "stream",
     "text": [
      "[' Male' ' Female']\n",
      "2\n"
     ]
    }
   ],
   "source": [
    "#tipos sex\n",
    "sex_unique_values = dataset['sex'].unique()\n",
    "print(sex_unique_values)\n",
    "print(len(sex_unique_values))"
   ]
  },
  {
   "cell_type": "code",
   "execution_count": 16,
   "id": "a1910fe4",
   "metadata": {
    "ExecuteTime": {
     "end_time": "2022-07-17T19:13:11.200158Z",
     "start_time": "2022-07-17T19:13:11.187156Z"
    },
    "collapsed": false,
    "jupyter": {
     "outputs_hidden": false
    },
    "pycharm": {
     "name": "#%%\n"
    }
   },
   "outputs": [
    {
     "name": "stdout",
     "output_type": "stream",
     "text": [
      "[' United-States' ' Cuba' ' Jamaica' ' India' ' ?' ' Mexico' ' South'\n",
      " ' Puerto-Rico' ' Honduras' ' England' ' Canada' ' Germany' ' Iran'\n",
      " ' Philippines' ' Italy' ' Poland' ' Columbia' ' Cambodia' ' Thailand'\n",
      " ' Ecuador' ' Laos' ' Taiwan' ' Haiti' ' Portugal' ' Dominican-Republic'\n",
      " ' El-Salvador' ' France' ' Guatemala' ' China' ' Japan' ' Yugoslavia'\n",
      " ' Peru' ' Outlying-US(Guam-USVI-etc)' ' Scotland' ' Trinadad&Tobago'\n",
      " ' Greece' ' Nicaragua' ' Vietnam' ' Hong' ' Ireland' ' Hungary'\n",
      " ' Holand-Netherlands']\n",
      "42\n"
     ]
    }
   ],
   "source": [
    "#tipos native-country\n",
    "native_country_unique_values = dataset['native-country'].unique()\n",
    "print(native_country_unique_values)\n",
    "print(len(native_country_unique_values))"
   ]
  },
  {
   "cell_type": "code",
   "execution_count": 17,
   "id": "66676ce3",
   "metadata": {
    "ExecuteTime": {
     "end_time": "2022-07-17T19:13:11.215158Z",
     "start_time": "2022-07-17T19:13:11.203164Z"
    },
    "collapsed": false,
    "jupyter": {
     "outputs_hidden": false
    },
    "pycharm": {
     "name": "#%%\n"
    }
   },
   "outputs": [
    {
     "name": "stdout",
     "output_type": "stream",
     "text": [
      "[' <=50K' ' >50K']\n",
      "2\n"
     ]
    }
   ],
   "source": [
    "#tipos native-country\n",
    "salary_unique_values = dataset['salary'].unique()\n",
    "print(salary_unique_values)\n",
    "print(len(salary_unique_values))"
   ]
  },
  {
   "cell_type": "code",
   "execution_count": 18,
   "id": "533d9936",
   "metadata": {
    "ExecuteTime": {
     "end_time": "2022-07-17T19:13:11.453823Z",
     "start_time": "2022-07-17T19:13:11.218167Z"
    },
    "collapsed": false,
    "jupyter": {
     "outputs_hidden": false
    },
    "pycharm": {
     "name": "#%%\n"
    }
   },
   "outputs": [
    {
     "data": {
      "text/plain": [
       "<AxesSubplot:>"
      ]
     },
     "execution_count": 18,
     "metadata": {},
     "output_type": "execute_result"
    },
    {
     "data": {
      "image/png": "[encoded data removed]",
      "text/plain": [
       "<Figure size 432x288 with 2 Axes>"
      ]
     },
     "metadata": {
      "needs_background": "light"
     },
     "output_type": "display_data"
    }
   ],
   "source": [
    "heatmap(dataset.corr())"
   ]
  },
  {
   "cell_type": "code",
   "execution_count": 19,
   "id": "ab49e023-c91e-41b0-9298-9ddd16c8e9d3",
   "metadata": {
    "ExecuteTime": {
     "end_time": "2022-07-17T19:13:11.549183Z",
     "start_time": "2022-07-17T19:13:11.456835Z"
    },
    "pycharm": {
     "name": "#%%\n"
    }
   },
   "outputs": [
    {
     "data": {
      "text/html": [
       "<div>\n",
       "<style scoped>\n",
       "    .dataframe tbody tr th:only-of-type {\n",
       "        vertical-align: middle;\n",
       "    }\n",
       "\n",
       "    .dataframe tbody tr th {\n",
       "        vertical-align: top;\n",
       "    }\n",
       "\n",
       "    .dataframe thead th {\n",
       "        text-align: right;\n",
       "    }\n",
       "</style>\n",
       "<table border=\"1\" class=\"dataframe\">\n",
       "  <thead>\n",
       "    <tr style=\"text-align: right;\">\n",
       "      <th></th>\n",
       "      <th>age</th>\n",
       "      <th>fnlwgt</th>\n",
       "      <th>hours-per-week</th>\n",
       "      <th>workclass_ Federal-gov</th>\n",
       "      <th>workclass_ Local-gov</th>\n",
       "      <th>workclass_ Private</th>\n",
       "      <th>workclass_ Self-emp-inc</th>\n",
       "      <th>workclass_ Self-emp-not-inc</th>\n",
       "      <th>workclass_ State-gov</th>\n",
       "      <th>workclass_ Without-pay</th>\n",
       "      <th>...</th>\n",
       "      <th>native-country_ Portugal</th>\n",
       "      <th>native-country_ Puerto-Rico</th>\n",
       "      <th>native-country_ Scotland</th>\n",
       "      <th>native-country_ South</th>\n",
       "      <th>native-country_ Taiwan</th>\n",
       "      <th>native-country_ Thailand</th>\n",
       "      <th>native-country_ United-States</th>\n",
       "      <th>native-country_ Vietnam</th>\n",
       "      <th>native-country_ Yugoslavia</th>\n",
       "      <th>native-country_TrinadadTobago</th>\n",
       "    </tr>\n",
       "  </thead>\n",
       "  <tbody>\n",
       "    <tr>\n",
       "      <th>0</th>\n",
       "      <td>39</td>\n",
       "      <td>77516</td>\n",
       "      <td>40</td>\n",
       "      <td>0</td>\n",
       "      <td>0</td>\n",
       "      <td>0</td>\n",
       "      <td>0</td>\n",
       "      <td>0</td>\n",
       "      <td>1</td>\n",
       "      <td>0</td>\n",
       "      <td>...</td>\n",
       "      <td>0</td>\n",
       "      <td>0</td>\n",
       "      <td>0</td>\n",
       "      <td>0</td>\n",
       "      <td>0</td>\n",
       "      <td>0</td>\n",
       "      <td>1</td>\n",
       "      <td>0</td>\n",
       "      <td>0</td>\n",
       "      <td>0</td>\n",
       "    </tr>\n",
       "    <tr>\n",
       "      <th>1</th>\n",
       "      <td>50</td>\n",
       "      <td>83311</td>\n",
       "      <td>13</td>\n",
       "      <td>0</td>\n",
       "      <td>0</td>\n",
       "      <td>0</td>\n",
       "      <td>0</td>\n",
       "      <td>1</td>\n",
       "      <td>0</td>\n",
       "      <td>0</td>\n",
       "      <td>...</td>\n",
       "      <td>0</td>\n",
       "      <td>0</td>\n",
       "      <td>0</td>\n",
       "      <td>0</td>\n",
       "      <td>0</td>\n",
       "      <td>0</td>\n",
       "      <td>1</td>\n",
       "      <td>0</td>\n",
       "      <td>0</td>\n",
       "      <td>0</td>\n",
       "    </tr>\n",
       "    <tr>\n",
       "      <th>2</th>\n",
       "      <td>38</td>\n",
       "      <td>215646</td>\n",
       "      <td>40</td>\n",
       "      <td>0</td>\n",
       "      <td>0</td>\n",
       "      <td>1</td>\n",
       "      <td>0</td>\n",
       "      <td>0</td>\n",
       "      <td>0</td>\n",
       "      <td>0</td>\n",
       "      <td>...</td>\n",
       "      <td>0</td>\n",
       "      <td>0</td>\n",
       "      <td>0</td>\n",
       "      <td>0</td>\n",
       "      <td>0</td>\n",
       "      <td>0</td>\n",
       "      <td>1</td>\n",
       "      <td>0</td>\n",
       "      <td>0</td>\n",
       "      <td>0</td>\n",
       "    </tr>\n",
       "    <tr>\n",
       "      <th>3</th>\n",
       "      <td>53</td>\n",
       "      <td>234721</td>\n",
       "      <td>40</td>\n",
       "      <td>0</td>\n",
       "      <td>0</td>\n",
       "      <td>1</td>\n",
       "      <td>0</td>\n",
       "      <td>0</td>\n",
       "      <td>0</td>\n",
       "      <td>0</td>\n",
       "      <td>...</td>\n",
       "      <td>0</td>\n",
       "      <td>0</td>\n",
       "      <td>0</td>\n",
       "      <td>0</td>\n",
       "      <td>0</td>\n",
       "      <td>0</td>\n",
       "      <td>1</td>\n",
       "      <td>0</td>\n",
       "      <td>0</td>\n",
       "      <td>0</td>\n",
       "    </tr>\n",
       "    <tr>\n",
       "      <th>4</th>\n",
       "      <td>28</td>\n",
       "      <td>338409</td>\n",
       "      <td>40</td>\n",
       "      <td>0</td>\n",
       "      <td>0</td>\n",
       "      <td>1</td>\n",
       "      <td>0</td>\n",
       "      <td>0</td>\n",
       "      <td>0</td>\n",
       "      <td>0</td>\n",
       "      <td>...</td>\n",
       "      <td>0</td>\n",
       "      <td>0</td>\n",
       "      <td>0</td>\n",
       "      <td>0</td>\n",
       "      <td>0</td>\n",
       "      <td>0</td>\n",
       "      <td>0</td>\n",
       "      <td>0</td>\n",
       "      <td>0</td>\n",
       "      <td>0</td>\n",
       "    </tr>\n",
       "  </tbody>\n",
       "</table>\n",
       "<p>5 rows × 101 columns</p>\n",
       "</div>"
      ],
      "text/plain": [
       "   age  fnlwgt  hours-per-week  workclass_ Federal-gov  workclass_ Local-gov  \\\n",
       "0   39   77516              40                       0                     0   \n",
       "1   50   83311              13                       0                     0   \n",
       "2   38  215646              40                       0                     0   \n",
       "3   53  234721              40                       0                     0   \n",
       "4   28  338409              40                       0                     0   \n",
       "\n",
       "   workclass_ Private  workclass_ Self-emp-inc  workclass_ Self-emp-not-inc  \\\n",
       "0                   0                        0                            0   \n",
       "1                   0                        0                            1   \n",
       "2                   1                        0                            0   \n",
       "3                   1                        0                            0   \n",
       "4                   1                        0                            0   \n",
       "\n",
       "   workclass_ State-gov  workclass_ Without-pay  ...  \\\n",
       "0                     1                       0  ...   \n",
       "1                     0                       0  ...   \n",
       "2                     0                       0  ...   \n",
       "3                     0                       0  ...   \n",
       "4                     0                       0  ...   \n",
       "\n",
       "   native-country_ Portugal  native-country_ Puerto-Rico  \\\n",
       "0                         0                            0   \n",
       "1                         0                            0   \n",
       "2                         0                            0   \n",
       "3                         0                            0   \n",
       "4                         0                            0   \n",
       "\n",
       "   native-country_ Scotland  native-country_ South  native-country_ Taiwan  \\\n",
       "0                         0                      0                       0   \n",
       "1                         0                      0                       0   \n",
       "2                         0                      0                       0   \n",
       "3                         0                      0                       0   \n",
       "4                         0                      0                       0   \n",
       "\n",
       "   native-country_ Thailand  native-country_ United-States  \\\n",
       "0                         0                              1   \n",
       "1                         0                              1   \n",
       "2                         0                              1   \n",
       "3                         0                              1   \n",
       "4                         0                              0   \n",
       "\n",
       "   native-country_ Vietnam  native-country_ Yugoslavia  \\\n",
       "0                        0                           0   \n",
       "1                        0                           0   \n",
       "2                        0                           0   \n",
       "3                        0                           0   \n",
       "4                        0                           0   \n",
       "\n",
       "   native-country_TrinadadTobago  \n",
       "0                              0  \n",
       "1                              0  \n",
       "2                              0  \n",
       "3                              0  \n",
       "4                              0  \n",
       "\n",
       "[5 rows x 101 columns]"
      ]
     },
     "execution_count": 19,
     "metadata": {},
     "output_type": "execute_result"
    }
   ],
   "source": [
    "#Transformação do dataset, seleção das features, \n",
    "\n",
    "#remoção de linhas com valores mal-formatados\n",
    "dataset = dataset.loc[(dataset['workclass'] != ' ?') &\\\n",
    "                      (dataset['native-country'] != ' ?') &\\\n",
    "                      (dataset['occupation'] != ' ?')]\n",
    "\n",
    "dataset['earnMoreThan50K'] = dataset['salary'].map(lambda x: 1 if ' >50K' in x else 0)\n",
    "\n",
    "#estava dando erro para gerar o .png da arvore de decisão\n",
    "dataset['native-country'] = dataset['native-country'].replace([' Trinadad&Tobago'],'TrinadadTobago')\n",
    "\n",
    "feature_cols = ['age', 'fnlwgt', 'hours-per-week']\n",
    "target_col = 'earnMoreThan50K'\n",
    "\n",
    "dummy_columns = ['workclass', 'education', 'marital-status', \n",
    "                 'occupation', 'relationship', 'race', 'sex', 'native-country']\n",
    "\n",
    "prepared_dummy_columns = pd.get_dummies(dataset[dummy_columns])\n",
    "\n",
    "combined = pd.concat([dataset, prepared_dummy_columns], axis=1)\n",
    "\n",
    "feature_cols.extend(prepared_dummy_columns.columns.values.tolist())\n",
    "\n",
    "X = combined[feature_cols]\n",
    "y = combined[target_col]\n",
    "\n",
    "X.head()"
   ]
  },
  {
   "cell_type": "code",
   "execution_count": 20,
   "id": "af257dd3-bf82-4d21-a0d7-0a2615587514",
   "metadata": {
    "ExecuteTime": {
     "end_time": "2022-07-17T19:13:12.024372Z",
     "start_time": "2022-07-17T19:13:11.552192Z"
    },
    "pycharm": {
     "name": "#%%\n"
    }
   },
   "outputs": [
    {
     "name": "stdout",
     "output_type": "stream",
     "text": [
      "| Train accuracy | Test accuracy | : | 0.9999301992810526 | 0.780649436713055 |\n"
     ]
    }
   ],
   "source": [
    "#Treino\n",
    "test_percentage = 0.05\n",
    "X_train, X_test, y_train, y_test = \\\n",
    "    train_test_split(X, y, test_size=test_percentage)\n",
    "\n",
    "# Criação do classificador de árvore de decisão \n",
    "clf = DecisionTreeClassifier(criterion=\"entropy\")\n",
    "\n",
    "# Usamos o método fit para construir o classificador a partir do nosso conjunto de treinamento\n",
    "clf = clf.fit(X_train, y_train)\n",
    "\n",
    "train_accuracy = clf.score(X_train, y_train)\n",
    "\n",
    "# Usando modelo para classificar os dados que temos a disposição\n",
    "y_pred = clf.predict(X_test)\n",
    "test_accuracy = metrics.accuracy_score(y_test, y_pred)\n",
    "\n",
    "print('| Train accuracy | Test accuracy | : | {0} | {1} |'.format(train_accuracy, test_accuracy))"
   ]
  },
  {
   "cell_type": "code",
   "execution_count": 21,
   "id": "92fe195f-5cb8-426c-a141-7aad9e553d4c",
   "metadata": {
    "ExecuteTime": {
     "end_time": "2022-07-17T19:15:23.233689Z",
     "start_time": "2022-07-17T19:13:12.027380Z"
    },
    "pycharm": {
     "name": "#%%\n"
    }
   },
   "outputs": [
    {
     "name": "stdout",
     "output_type": "stream",
     "text": [
      "dot: graph is too large for cairo-renderer bitmaps. Scaling by 0.227168 to fit\n",
      "\n"
     ]
    }
   ],
   "source": [
    "generate_decision_tree_png(clf, X.columns)"
   ]
  },
  {
   "cell_type": "code",
   "execution_count": 22,
   "id": "75c33299-d4e2-4eb2-9988-2e5d0da44bf6",
   "metadata": {
    "ExecuteTime": {
     "end_time": "2022-07-17T19:15:23.265687Z",
     "start_time": "2022-07-17T19:15:23.236704Z"
    },
    "pycharm": {
     "name": "#%%\n"
    }
   },
   "outputs": [
    {
     "name": "stdout",
     "output_type": "stream",
     "text": [
      "[0]\n",
      "31245    1\n",
      "Name: earnMoreThan50K, dtype: int64\n"
     ]
    }
   ],
   "source": [
    "#Teste\n",
    "random_element = random.randint(0, len(X))\n",
    "sample = X.iloc[[random_element]]\n",
    "target_of_sample = y.iloc[[random_element]]\n",
    "\n",
    "pred_sample = clf.predict(sample)\n",
    "\n",
    "print(pred_sample)\n",
    "print(target_of_sample)"
   ]
  },
  {
   "cell_type": "code",
   "execution_count": 52,
   "id": "72fd3b30-b6ed-46cb-84e6-74e5fed2c18c",
   "metadata": {
    "ExecuteTime": {
     "end_time": "2022-07-17T19:15:23.281685Z",
     "start_time": "2022-07-17T19:15:23.270693Z"
    },
    "pycharm": {
     "name": "#%%\n"
    }
   },
   "outputs": [],
   "source": [
    "def fit_and_test_decision_tree_clf(X, y,criterion, test_percentage, max_depth = None):\n",
    "    X_train, X_test, y_train, y_test = \\\n",
    "        train_test_split(X, y, test_size=test_percentage)\n",
    "\n",
    "    classifier = None\n",
    "    \n",
    "    if(max_depth == None):   \n",
    "        # Criação do classificador de árvore de decisão \n",
    "        classifier = DecisionTreeClassifier(criterion=criterion)\n",
    "    else:\n",
    "        classifier = DecisionTreeClassifier(criterion=criterion, max_depth = max_depth)\n",
    "\n",
    "    # Usamos o método fit para construir o classificador a partir do nosso conjunto de treinamento\n",
    "    classifier = classifier.fit(X_train, y_train)\n",
    "    \n",
    "    y_train_pred = classifier.predict(X_train)\n",
    "    \n",
    "    train_accuracy = metrics.accuracy_score(list(y_train_pred), list(y_train))\n",
    "\n",
    "    # Usando modelo para classificar os dados que temos a disposição\n",
    "    y_test_pred = classifier.predict(X_test)\n",
    "    \n",
    "    test_accuracy = metrics.accuracy_score(list(y_test), list(y_test_pred))\n",
    "    \n",
    "    return classifier, train_accuracy, test_accuracy"
   ]
  },
  {
   "cell_type": "code",
   "execution_count": 24,
   "id": "5deb9e9e",
   "metadata": {
    "ExecuteTime": {
     "end_time": "2022-07-17T19:15:23.296696Z",
     "start_time": "2022-07-17T19:15:23.284693Z"
    },
    "pycharm": {
     "name": "#%%\n"
    }
   },
   "outputs": [],
   "source": [
    "def calculateDecisionTreeKfold(n_splits, shuffle, random_state, criterion, x, y):\n",
    "    kfold = KFold(n_splits, shuffle=shuffle, random_state=random_state)\n",
    "    model_decision_tree_kfold = DecisionTreeClassifier(criterion=criterion)\n",
    "    # Médias\n",
    "    accuracy_med_train = 0\n",
    "    accuracy_med_test = 0\n",
    "    count_split = 0\n",
    "    for train_index, test_index in kfold.split(x):\n",
    "        count_split +=1\n",
    "        #print(\" Treino:\", train_index, \"Teste:\", test_index)\n",
    "        x_train, x_test = x.iloc[train_index,:], x.iloc[test_index,:]\n",
    "        y_train, y_test = y.iloc[train_index], y.iloc[test_index]\n",
    "        model_decision_tree_kfold.fit(x_train, y_train)\n",
    "        y_pred_train = model_decision_tree_kfold.predict(x_train)\n",
    "        y_pred_test = model_decision_tree_kfold.predict(x_test)\n",
    "        # Cálculo das acurácias\n",
    "        accuracy_train = metrics.accuracy_score(y_train, y_pred_train)\n",
    "        accuracy_test = metrics.accuracy_score(y_test, y_pred_test)\n",
    "        print(\"Iteração: \" + str(count_split) + \" \\n\" + \"Acurácia do treinamento: \" + str(accuracy_train) + \" \\n\" + \"Acurácia do teste: \" + str(accuracy_test))\n",
    "        # Cálculo das médias\n",
    "        accuracy_med_train += accuracy_train/kfold.get_n_splits(x)\n",
    "        accuracy_med_test += accuracy_test/kfold.get_n_splits(x)\n",
    "    print(\"Acurácia média do treinamento:\", accuracy_med_train)\n",
    "    print(\"Acurácia média do teste:\", accuracy_med_test)"
   ]
  },
  {
   "cell_type": "markdown",
   "id": "815f87fc-1f83-428e-9f6e-336dc2ab22ee",
   "metadata": {
    "tags": []
   },
   "source": [
    "## Experimentos:\n",
    "\n",
    "1. Básico com entropia, test_percentage = 0.05\n",
    "2. Básico com entropia, test_percentage = 0.2\n",
    "3. Básico com entropia, test_percentage = 0.3\n",
    "4. Básico com gini, test_percentage = 0.05\n",
    "5. Básico com gini, test_percentage = 0.2\n",
    "6. Básico com gini, test_percentage = 0.3\n",
    "7. Básico com log-loss, test_percentage = 0.05\n",
    "8. Básico com log-loss, test_percentage = 0.2\n",
    "9. Básico com log-loss, test_percentage = 0.3\n",
    "10. Kfold, entropia, k = 3\n",
    "11. Kfold,entropia, k = 5\n",
    "12. Kfold,entropia, k = 8\n",
    "13. Kfold,entropia, k = 14\n",
    "14. Prunning, max_depth = 5 , test_percentage = 0.05\n",
    "15. Prunning, max_depth = 15, test_percentage = 0.05\n",
    "16. Prunning, max_depth = 50, test_percentage = 0.05"
   ]
  },
  {
   "cell_type": "markdown",
   "id": "e53785d5-76c3-4100-91cc-9ca05f19d2a8",
   "metadata": {
    "jp-MarkdownHeadingCollapsed": true,
    "pycharm": {
     "name": "#%% md\n"
    },
    "tags": []
   },
   "source": [
    "### Experimento 1:\n",
    "\n",
    "* Classificador: **Entropy**\n",
    "* Sem k-fold\n",
    "* Porcentagem de teste: 5%\n",
    "* Expectativa: desempenho que pode ser melhorado"
   ]
  },
  {
   "cell_type": "code",
   "execution_count": 53,
   "id": "bb9beeab-8035-40cc-be72-756ddc6d85e4",
   "metadata": {
    "ExecuteTime": {
     "end_time": "2022-07-17T19:15:24.429160Z",
     "start_time": "2022-07-17T19:15:23.299686Z"
    },
    "pycharm": {
     "name": "#%%\n"
    }
   },
   "outputs": [
    {
     "name": "stdout",
     "output_type": "stream",
     "text": [
      "| Test percentage | Train accuracy | Test accuracy | : | 5.0% | 0.9999650996405263 | 0.781974817760106 |\n"
     ]
    }
   ],
   "source": [
    "test_percentage_exp_1 = 0.05\n",
    "criterion_exp_1 = 'entropy'\n",
    "clf_exp_1, train_accuracy_exp_1, test_accuracy_exp_1  = \\\n",
    "            fit_and_test_decision_tree_clf(X, y, criterion_exp_1, test_percentage_exp_1)\n",
    "print('| Test percentage | Train accuracy | Test accuracy | : | {0}% | {1} | {2} |'.format(\\\n",
    "                            (test_percentage_exp_1 * 100), train_accuracy_exp_1, test_accuracy_exp_1))"
   ]
  },
  {
   "cell_type": "markdown",
   "id": "c923fdab-58e1-410f-908b-453e72fc63a0",
   "metadata": {
    "jp-MarkdownHeadingCollapsed": true,
    "pycharm": {
     "name": "#%% md\n"
    },
    "tags": []
   },
   "source": [
    "### Experimento 2:\n",
    "\n",
    "* Classificador: **Entropy**\n",
    "* Sem k-fold\n",
    "* Porcentagem de teste: 20%\n",
    "* Expectativa: melhor desempenho do que o experimento 1, mas ainda com margem para melhora"
   ]
  },
  {
   "cell_type": "code",
   "execution_count": 54,
   "id": "b908687d-cba3-43c7-954e-8e0590ebe41c",
   "metadata": {
    "ExecuteTime": {
     "end_time": "2022-07-17T19:15:24.429160Z",
     "start_time": "2022-07-17T19:15:23.299686Z"
    },
    "pycharm": {
     "name": "#%%\n"
    }
   },
   "outputs": [
    {
     "name": "stdout",
     "output_type": "stream",
     "text": [
      "| Test percentage | Train accuracy | Test accuracy | : | 20.0% | 0.9999171121886526 | 0.7679429802751533 |\n"
     ]
    }
   ],
   "source": [
    "test_percentage_exp = 0.2\n",
    "criterion_exp = 'entropy'\n",
    "clf_exp, train_accuracy_exp, test_accuracy_exp  = \\\n",
    "            fit_and_test_decision_tree_clf(X, y, criterion_exp, test_percentage_exp)\n",
    "print('| Test percentage | Train accuracy | Test accuracy | : | {0}% | {1} | {2} |'.format(\\\n",
    "                            (test_percentage_exp * 100), train_accuracy_exp, test_accuracy_exp))"
   ]
  },
  {
   "cell_type": "markdown",
   "id": "d7bd6b13-c173-4bc4-ab51-c5a3d6dc6c33",
   "metadata": {
    "jp-MarkdownHeadingCollapsed": true,
    "pycharm": {
     "name": "#%% md\n"
    },
    "tags": []
   },
   "source": [
    "### Experimento 3:\n",
    "\n",
    "* Classificador: **Entropy**\n",
    "* Sem k-fold\n",
    "* Porcentagem de teste: 30%\n",
    "* Expectativa: melhor desempenho do que os experimento 1 e 2, mas ainda com margem para melhora"
   ]
  },
  {
   "cell_type": "code",
   "execution_count": 62,
   "id": "ad148caf-51d0-464a-ad0f-194ade6bf836",
   "metadata": {
    "ExecuteTime": {
     "end_time": "2022-07-17T19:15:24.429160Z",
     "start_time": "2022-07-17T19:15:23.299686Z"
    },
    "pycharm": {
     "name": "#%%\n"
    }
   },
   "outputs": [
    {
     "name": "stdout",
     "output_type": "stream",
     "text": [
      "| Test percentage | Train accuracy | Test accuracy | : | 30.0% | 0.9999052716335907 | 0.7731241021107305 |\n"
     ]
    }
   ],
   "source": [
    "test_percentage_exp = 0.3\n",
    "criterion_exp = 'entropy'\n",
    "clf_exp, train_accuracy_exp, test_accuracy_exp  = \\\n",
    "            fit_and_test_decision_tree_clf(X, y, criterion_exp, test_percentage_exp)\n",
    "print('| Test percentage | Train accuracy | Test accuracy | : | {0}% | {1} | {2} |'.format(\\\n",
    "                            (test_percentage_exp * 100), train_accuracy_exp, test_accuracy_exp))"
   ]
  },
  {
   "cell_type": "markdown",
   "id": "a18790c6-e7e5-4ca1-8597-26fb42ec2566",
   "metadata": {
    "jp-MarkdownHeadingCollapsed": true,
    "pycharm": {
     "name": "#%% md\n"
    },
    "tags": []
   },
   "source": [
    "### Experimento 4:\n",
    "\n",
    "* Classificador: **Gini**\n",
    "* Sem k-fold\n",
    "* Porcentagem de teste: 5%"
   ]
  },
  {
   "cell_type": "code",
   "execution_count": 67,
   "id": "3c506e78-d090-4285-9fb3-2987fa953928",
   "metadata": {
    "ExecuteTime": {
     "end_time": "2022-07-17T19:15:24.429160Z",
     "start_time": "2022-07-17T19:15:23.299686Z"
    },
    "pycharm": {
     "name": "#%%\n"
    }
   },
   "outputs": [
    {
     "name": "stdout",
     "output_type": "stream",
     "text": [
      "| Test percentage | Train accuracy | Test accuracy | : | 5.0% | 0.9999301992810526 | 0.7654075546719682 |\n"
     ]
    }
   ],
   "source": [
    "test_percentage_exp = 0.05\n",
    "criterion_exp = 'gini'\n",
    "clf_exp, train_accuracy_exp, test_accuracy_exp  = \\\n",
    "            fit_and_test_decision_tree_clf(X, y, criterion_exp, test_percentage_exp)\n",
    "print('| Test percentage | Train accuracy | Test accuracy | : | {0}% | {1} | {2} |'.format(\\\n",
    "                            (test_percentage_exp * 100), train_accuracy_exp, test_accuracy_exp))"
   ]
  },
  {
   "cell_type": "markdown",
   "id": "87b0d5f7-3f39-4665-9db5-4f19690239b8",
   "metadata": {
    "jp-MarkdownHeadingCollapsed": true,
    "pycharm": {
     "name": "#%% md\n"
    },
    "tags": []
   },
   "source": [
    "### Experimento 5:\n",
    "\n",
    "* Classificador: **Gini**\n",
    "* Sem k-fold\n",
    "* Porcentagem de teste: 20%"
   ]
  },
  {
   "cell_type": "code",
   "execution_count": 68,
   "id": "b9dbeeb1-0b8e-4589-89a4-0efa078abef3",
   "metadata": {
    "ExecuteTime": {
     "end_time": "2022-07-17T19:15:24.429160Z",
     "start_time": "2022-07-17T19:15:23.299686Z"
    },
    "pycharm": {
     "name": "#%%\n"
    }
   },
   "outputs": [
    {
     "name": "stdout",
     "output_type": "stream",
     "text": [
      "| Test percentage | Train accuracy | Test accuracy | : | 20.0% | 0.9999171121886526 | 0.7684402453174208 |\n"
     ]
    }
   ],
   "source": [
    "test_percentage_exp = 0.20\n",
    "criterion_exp = 'gini'\n",
    "clf_exp, train_accuracy_exp, test_accuracy_exp  = \\\n",
    "            fit_and_test_decision_tree_clf(X, y, criterion_exp, test_percentage_exp)\n",
    "print('| Test percentage | Train accuracy | Test accuracy | : | {0}% | {1} | {2} |'.format(\\\n",
    "                            (test_percentage_exp * 100), train_accuracy_exp, test_accuracy_exp))"
   ]
  },
  {
   "cell_type": "markdown",
   "id": "c5d4b82e-000b-49bd-ab3c-0a3d6a4adfad",
   "metadata": {
    "jp-MarkdownHeadingCollapsed": true,
    "pycharm": {
     "name": "#%% md\n"
    },
    "tags": []
   },
   "source": [
    "### Experimento 6:\n",
    "\n",
    "* Classificador: **Gini**\n",
    "* Sem k-fold\n",
    "* Porcentagem de teste: 30%"
   ]
  },
  {
   "cell_type": "code",
   "execution_count": 71,
   "id": "e7efd30c-46b6-48a7-bcae-7b154256405e",
   "metadata": {
    "ExecuteTime": {
     "end_time": "2022-07-17T19:15:24.429160Z",
     "start_time": "2022-07-17T19:15:23.299686Z"
    },
    "pycharm": {
     "name": "#%%\n"
    }
   },
   "outputs": [
    {
     "name": "stdout",
     "output_type": "stream",
     "text": [
      "| Test percentage | Train accuracy | Test accuracy | : | 30.0% | 1.0 | 0.7818543485468008 |\n"
     ]
    }
   ],
   "source": [
    "test_percentage_exp = 0.30\n",
    "criterion_exp = 'gini'\n",
    "clf_exp, train_accuracy_exp, test_accuracy_exp  = \\\n",
    "            fit_and_test_decision_tree_clf(X, y, criterion_exp, test_percentage_exp)\n",
    "print('| Test percentage | Train accuracy | Test accuracy | : | {0}% | {1} | {2} |'.format(\\\n",
    "                            (test_percentage_exp * 100), train_accuracy_exp, test_accuracy_exp))"
   ]
  },
  {
   "cell_type": "markdown",
   "id": "fb76db83-0da1-4f01-b1d3-019cf4146f7f",
   "metadata": {
    "jp-MarkdownHeadingCollapsed": true,
    "pycharm": {
     "name": "#%% md\n"
    },
    "tags": []
   },
   "source": [
    "### Experimento 7:\n",
    "\n",
    "* Classificador: **Log loss**\n",
    "* Sem k-fold\n",
    "* Porcentagem de teste: 5%\n",
    "* Porque o desempenho foi melhor do que com os outros critérios de avaliação?"
   ]
  },
  {
   "cell_type": "code",
   "execution_count": 72,
   "id": "40df85aa-3c24-4a31-ba29-24a2ea24feb4",
   "metadata": {
    "ExecuteTime": {
     "end_time": "2022-07-17T19:15:24.429160Z",
     "start_time": "2022-07-17T19:15:23.299686Z"
    },
    "pycharm": {
     "name": "#%%\n"
    }
   },
   "outputs": [
    {
     "name": "stdout",
     "output_type": "stream",
     "text": [
      "| Test percentage | Train accuracy | Test accuracy | : | 5.0% | 0.9999301992810526 | 0.7859509609012592 |\n"
     ]
    }
   ],
   "source": [
    "test_percentage_exp = 0.05\n",
    "criterion_exp = 'log_loss'\n",
    "clf_exp, train_accuracy_exp, test_accuracy_exp  = \\\n",
    "            fit_and_test_decision_tree_clf(X, y, criterion_exp, test_percentage_exp)\n",
    "print('| Test percentage | Train accuracy | Test accuracy | : | {0}% | {1} | {2} |'.format(\\\n",
    "                            (test_percentage_exp * 100), train_accuracy_exp, test_accuracy_exp))"
   ]
  },
  {
   "cell_type": "markdown",
   "id": "aaffb5db-890b-4b02-b0f0-72c00350f373",
   "metadata": {
    "jp-MarkdownHeadingCollapsed": true,
    "pycharm": {
     "name": "#%% md\n"
    },
    "tags": []
   },
   "source": [
    "### Experimento 8:\n",
    "\n",
    "* Classificador: **Log loss**\n",
    "* Sem k-fold\n",
    "* Porcentagem de teste: 20%"
   ]
  },
  {
   "cell_type": "code",
   "execution_count": 74,
   "id": "ca7510fe-249e-456e-a500-72be079a68f2",
   "metadata": {
    "ExecuteTime": {
     "end_time": "2022-07-17T19:15:24.429160Z",
     "start_time": "2022-07-17T19:15:23.299686Z"
    },
    "pycharm": {
     "name": "#%%\n"
    }
   },
   "outputs": [
    {
     "name": "stdout",
     "output_type": "stream",
     "text": [
      "| Test percentage | Train accuracy | Test accuracy | : | 20.0% | 0.9999585560943264 | 0.7765622410077905 |\n"
     ]
    }
   ],
   "source": [
    "test_percentage_exp = 0.2\n",
    "criterion_exp = 'log_loss'\n",
    "clf_exp, train_accuracy_exp, test_accuracy_exp  = \\\n",
    "            fit_and_test_decision_tree_clf(X, y, criterion_exp, test_percentage_exp)\n",
    "print('| Test percentage | Train accuracy | Test accuracy | : | {0}% | {1} | {2} |'.format(\\\n",
    "                            (test_percentage_exp * 100), train_accuracy_exp, test_accuracy_exp))"
   ]
  },
  {
   "cell_type": "markdown",
   "id": "a068e19f-e25b-48b0-a1b6-a016f0730e85",
   "metadata": {
    "jp-MarkdownHeadingCollapsed": true,
    "pycharm": {
     "name": "#%% md\n"
    },
    "tags": []
   },
   "source": [
    "### Experimento 9:\n",
    "\n",
    "* Classificador: **Log loss**\n",
    "* Sem k-fold\n",
    "* Porcentagem de teste: 30%"
   ]
  },
  {
   "cell_type": "code",
   "execution_count": 75,
   "id": "46eae856-8982-4413-b251-06f7013b81b0",
   "metadata": {
    "ExecuteTime": {
     "end_time": "2022-07-17T19:15:24.429160Z",
     "start_time": "2022-07-17T19:15:23.299686Z"
    },
    "pycharm": {
     "name": "#%%\n"
    }
   },
   "outputs": [
    {
     "name": "stdout",
     "output_type": "stream",
     "text": [
      "| Test percentage | Train accuracy | Test accuracy | : | 30.0% | 0.9999052716335907 | 0.772019007625152 |\n"
     ]
    }
   ],
   "source": [
    "test_percentage_exp = 0.3\n",
    "criterion_exp = 'log_loss'\n",
    "clf_exp, train_accuracy_exp, test_accuracy_exp  = \\\n",
    "            fit_and_test_decision_tree_clf(X, y, criterion_exp, test_percentage_exp)\n",
    "print('| Test percentage | Train accuracy | Test accuracy | : | {0}% | {1} | {2} |'.format(\\\n",
    "                            (test_percentage_exp * 100), train_accuracy_exp, test_accuracy_exp))"
   ]
  },
  {
   "cell_type": "markdown",
   "id": "9e4b487a-62da-403a-895e-9c61def2d7c7",
   "metadata": {
    "jp-MarkdownHeadingCollapsed": true,
    "pycharm": {
     "name": "#%% md\n"
    },
    "tags": []
   },
   "source": [
    "### Experimento 10:\n",
    "\n",
    "* Classificador: **Entropy**\n",
    "* K-fold , k = 3"
   ]
  },
  {
   "cell_type": "code",
   "execution_count": 44,
   "id": "b2cb77aa-99ab-4c0f-b11c-1048d0268c95",
   "metadata": {
    "ExecuteTime": {
     "end_time": "2022-07-17T19:15:24.429160Z",
     "start_time": "2022-07-17T19:15:23.299686Z"
    },
    "pycharm": {
     "name": "#%%\n"
    }
   },
   "outputs": [
    {
     "name": "stdout",
     "output_type": "stream",
     "text": [
      "Iteração: 1 \n",
      "Acurácia do treinamento: 0.9999502685498309 \n",
      "Acurácia do teste: 0.7747165307340362\n",
      "Iteração: 2 \n",
      "Acurácia do treinamento: 0.9999502685498309 \n",
      "Acurácia do teste: 0.7851601352695444\n",
      "Iteração: 3 \n",
      "Acurácia do treinamento: 0.9999502685498309 \n",
      "Acurácia do teste: 0.7715337179232147\n",
      "Acurácia média do treinamento: 0.9999502685498309\n",
      "Acurácia média do teste: 0.7771367946422651\n"
     ]
    }
   ],
   "source": [
    "calculateDecisionTreeKfold(3, False, None,'entropy', X, y)"
   ]
  },
  {
   "cell_type": "markdown",
   "id": "6b2fa66e-8387-4ffb-b918-9e4aeb6cc824",
   "metadata": {
    "jp-MarkdownHeadingCollapsed": true,
    "pycharm": {
     "name": "#%% md\n"
    },
    "tags": []
   },
   "source": [
    "### Experimento 11:\n",
    "\n",
    "* Classificador: Entropy\n",
    "* K-fold, k = 5"
   ]
  },
  {
   "cell_type": "code",
   "execution_count": null,
   "id": "7c1931ed-1e8c-4678-9718-ed5b9f5a5258",
   "metadata": {
    "ExecuteTime": {
     "end_time": "2022-07-17T19:15:26.494503Z",
     "start_time": "2022-07-17T19:15:24.432163Z"
    },
    "pycharm": {
     "name": "#%%\n"
    }
   },
   "outputs": [],
   "source": [
    "calculateDecisionTreeKfold(5, True, 80,'entropy', X, y)"
   ]
  },
  {
   "cell_type": "markdown",
   "id": "de23af9e",
   "metadata": {
    "jp-MarkdownHeadingCollapsed": true,
    "pycharm": {
     "name": "#%% md\n"
    },
    "tags": []
   },
   "source": [
    "### Experimento 12:\n",
    "\n",
    "* Classificador: **Entropy**\n",
    "* K-fold, k = 8"
   ]
  },
  {
   "cell_type": "code",
   "execution_count": null,
   "id": "cb8c8341",
   "metadata": {
    "ExecuteTime": {
     "end_time": "2022-07-17T19:15:30.299210Z",
     "start_time": "2022-07-17T19:15:26.497511Z"
    },
    "pycharm": {
     "name": "#%%\n"
    }
   },
   "outputs": [],
   "source": [
    "calculateDecisionTreeKfold(8, True, 80,'entropy', X, y)"
   ]
  },
  {
   "cell_type": "markdown",
   "id": "0c5eb951-eeae-4b8b-9280-3f89f587e309",
   "metadata": {
    "jp-MarkdownHeadingCollapsed": true,
    "pycharm": {
     "name": "#%% md\n"
    },
    "tags": []
   },
   "source": [
    "### Experimento 13:\n",
    "\n",
    "* Classificador: **Entropy**\n",
    "* K-fold, k = 14"
   ]
  },
  {
   "cell_type": "code",
   "execution_count": null,
   "id": "82ac4eb7-20a7-40cd-bc03-c3b2a4c7ffda",
   "metadata": {
    "ExecuteTime": {
     "end_time": "2022-07-17T19:15:36.910791Z",
     "start_time": "2022-07-17T19:15:30.308224Z"
    },
    "pycharm": {
     "name": "#%%\n"
    }
   },
   "outputs": [],
   "source": [
    "calculateDecisionTreeKfold(14, True, 80,'entropy', X, y)"
   ]
  },
  {
   "cell_type": "markdown",
   "id": "f9680d74-e4e4-4fd1-ac70-2a47e9542346",
   "metadata": {
    "jp-MarkdownHeadingCollapsed": true,
    "pycharm": {
     "name": "#%% md\n"
    },
    "tags": []
   },
   "source": [
    "### Experimento 14:\n",
    "\n",
    "* Árvore com poda, profundidade máxima = 5\n",
    "* Porcentagem de teste: 5%\n",
    "* Classificador: **Entropy**\n",
    "* Sem k-fold"
   ]
  },
  {
   "cell_type": "code",
   "execution_count": 76,
   "id": "afc1446a-c7c1-4b05-83d4-62380dccc91f",
   "metadata": {
    "ExecuteTime": {
     "end_time": "2022-07-17T19:15:36.910791Z",
     "start_time": "2022-07-17T19:15:30.308224Z"
    },
    "pycharm": {
     "name": "#%%\n"
    }
   },
   "outputs": [
    {
     "name": "stdout",
     "output_type": "stream",
     "text": [
      "| Test percentage | Train accuracy | Test accuracy | : | 5.0% | 0.8203329494293792 | 0.8124585818422797 |\n"
     ]
    }
   ],
   "source": [
    "test_percentage_exp = 0.05\n",
    "criterion_exp = 'entropy'\n",
    "clf_exp, train_accuracy_exp, test_accuracy_exp = \\\n",
    "            fit_and_test_decision_tree_clf(X, y, criterion_exp, test_percentage_exp, max_depth = 5)\n",
    "print('| Test percentage | Train accuracy | Test accuracy | : | {0}% | {1} | {2} |'.format(\\\n",
    "                            (test_percentage_exp * 100), train_accuracy_exp, test_accuracy_exp))"
   ]
  },
  {
   "cell_type": "markdown",
   "id": "c51f2782-3895-45ec-ab91-70353a274058",
   "metadata": {
    "jp-MarkdownHeadingCollapsed": true,
    "pycharm": {
     "name": "#%% md\n"
    },
    "tags": []
   },
   "source": [
    "### Experimento 15:\n",
    "\n",
    "* Árvore com poda, profundidade máxima = 15\n",
    "* Porcentagem de teste: 5%\n",
    "* Classificador: **Entropy**\n",
    "* Sem k-fold"
   ]
  },
  {
   "cell_type": "code",
   "execution_count": 79,
   "id": "87a8cbef-2c1f-4875-a7db-8419c0ecc2be",
   "metadata": {
    "ExecuteTime": {
     "end_time": "2022-07-17T19:15:36.910791Z",
     "start_time": "2022-07-17T19:15:30.308224Z"
    },
    "pycharm": {
     "name": "#%%\n"
    }
   },
   "outputs": [
    {
     "name": "stdout",
     "output_type": "stream",
     "text": [
      "| Test percentage | Train accuracy | Test accuracy | : | 5.0% | 0.8818273828220431 | 0.8098078197481776 |\n"
     ]
    }
   ],
   "source": [
    "test_percentage_exp = 0.05\n",
    "criterion_exp = 'entropy'\n",
    "clf_exp, train_accuracy_exp, test_accuracy_exp = \\\n",
    "            fit_and_test_decision_tree_clf(X, y, criterion_exp, test_percentage_exp, max_depth = 15)\n",
    "print('| Test percentage | Train accuracy | Test accuracy | : | {0}% | {1} | {2} |'.format(\\\n",
    "                            (test_percentage_exp * 100), train_accuracy_exp, test_accuracy_exp))"
   ]
  },
  {
   "cell_type": "markdown",
   "id": "71d259e5-61b4-40cf-b39c-ea602c88181d",
   "metadata": {
    "jp-MarkdownHeadingCollapsed": true,
    "pycharm": {
     "name": "#%% md\n"
    },
    "tags": []
   },
   "source": [
    "### Experimento 16:\n",
    "\n",
    "* Árvore com poda, profundidade máxima = 50\n",
    "* Porcentagem de teste: 5%\n",
    "* Classificador: **Entropy**\n",
    "* Sem k-fold"
   ]
  },
  {
   "cell_type": "code",
   "execution_count": 93,
   "id": "192ea56e-20b3-4da8-87c6-f6c129f8abce",
   "metadata": {
    "ExecuteTime": {
     "end_time": "2022-07-17T19:15:36.910791Z",
     "start_time": "2022-07-17T19:15:30.308224Z"
    },
    "pycharm": {
     "name": "#%%\n"
    }
   },
   "outputs": [
    {
     "name": "stdout",
     "output_type": "stream",
     "text": [
      "| Test percentage | Train accuracy | Test accuracy | : | 5.0% | 0.9971032701636827 | 0.7972166998011928 |\n"
     ]
    }
   ],
   "source": [
    "test_percentage_exp = 0.05\n",
    "criterion_exp = 'entropy'\n",
    "clf_exp, train_accuracy_exp, test_accuracy_exp = \\\n",
    "            fit_and_test_decision_tree_clf(X, y, criterion_exp, test_percentage_exp, max_depth = 50)\n",
    "print('| Test percentage | Train accuracy | Test accuracy | : | {0}% | {1} | {2} |'.format(\\\n",
    "                            (test_percentage_exp * 100), train_accuracy_exp, test_accuracy_exp))"
   ]
  }
 ],
 "metadata": {
  "colab": {
   "include_colab_link": true,
   "name": "arvore-decisao-parte2.ipynb",
   "provenance": []
  },
  "kernelspec": {
   "display_name": "Python 3 (ipykernel)",
   "language": "python",
   "name": "python3"
  },
  "language_info": {
   "codemirror_mode": {
    "name": "ipython",
    "version": 3
   },
   "file_extension": ".py",
   "mimetype": "text/x-python",
   "name": "python",
   "nbconvert_exporter": "python",
   "pygments_lexer": "ipython3",
   "version": "3.10.5"
  },
  "vscode": {
   "interpreter": {
    "hash": "4f196f7554b24332a19ef2d1e38c36eeb19a86dc137a0ce6d9673ab017d6f1b7"
   }
  }
 },
 "nbformat": 4,
 "nbformat_minor": 5
}
