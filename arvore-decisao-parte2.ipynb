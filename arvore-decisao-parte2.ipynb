{
  "cells": [
    {
      "cell_type": "code",
      "execution_count": 1,
      "id": "a344f771",
      "metadata": {
        "id": "a344f771"
      },
      "outputs": [],
      "source": [
        "import pandas as pd\n",
        "from sklearn.tree import DecisionTreeClassifier\n",
        "from sklearn import metrics\n",
        "from sklearn.model_selection import train_test_split\n",
        "from sklearn.model_selection import KFold"
      ]
    },
    {
      "cell_type": "code",
      "source": [
        "# Nome dos atributos\n",
        "columnsNames = ['Outlook','Temperature','Humidity','Wind','PlayTennis']\n",
        "\n",
        "# carregando a base de dados a ser usada\n",
        "base = pd.read_csv(\"exemplo_IA.csv\", header=None, names=columnsNames)"
      ],
      "metadata": {
        "id": "WyBqfYK73BfW"
      },
      "id": "WyBqfYK73BfW",
      "execution_count": null,
      "outputs": []
    }
  ],
  "metadata": {
    "kernelspec": {
      "display_name": "Python 3 (ipykernel)",
      "language": "python",
      "name": "python3"
    },
    "language_info": {
      "codemirror_mode": {
        "name": "ipython",
        "version": 3
      },
      "file_extension": ".py",
      "mimetype": "text/x-python",
      "name": "python",
      "nbconvert_exporter": "python",
      "pygments_lexer": "ipython3",
      "version": "3.10.5"
    },
    "colab": {
      "name": "arvore-decisao-parte2.ipynb",
      "provenance": []
    }
  },
  "nbformat": 4,
  "nbformat_minor": 5
}