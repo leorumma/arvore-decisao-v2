{
 "cells": [
  {
   "cell_type": "markdown",
   "id": "d209c204",
   "metadata": {
    "colab_type": "text",
    "id": "view-in-github",
    "pycharm": {
     "name": "#%% md\n"
    }
   },
   "source": [
    "<a href=\"https://colab.research.google.com/github/leorumma/arvore-decisao-v2/blob/main/arvore-decisao-parte2.ipynb\" target=\"_parent\"><img src=\"https://colab.research.google.com/assets/colab-badge.svg\" alt=\"Open In Colab\"/></a>"
   ]
  },
  {
   "cell_type": "code",
   "execution_count": 1,
   "id": "a344f771",
   "metadata": {
    "id": "a344f771",
    "pycharm": {
     "name": "#%%\n"
    }
   },
   "outputs": [],
   "source": [
    "import pandas as pd\n",
    "from sklearn.tree import DecisionTreeClassifier\n",
    "from sklearn import metrics\n",
    "from sklearn.model_selection import train_test_split\n",
    "from sklearn.model_selection import KFold\n",
    "from seaborn import heatmap\n",
    "import matplotlib.pyplot as plt\n",
    "import random\n",
    "\n",
    "#criar os gráficos das árvores de decisão\n",
    "from sklearn.tree import export_graphviz\n",
    "from six import StringIO\n",
    "from IPython.display import Image  \n",
    "import pydotplus"
   ]
  },
  {
   "cell_type": "code",
   "execution_count": 2,
   "id": "6cc9b5c2-0e25-424d-b1a1-505abbb050b5",
   "metadata": {
    "pycharm": {
     "name": "#%%\n"
    }
   },
   "outputs": [],
   "source": [
    "def generate_decision_tree_png(decision_tree_clf, feature_names, file_name = 'arvore1.png'):\n",
    "    # tem que usar feature_names = one_hot_data.columns pois feature_names = feature_cols tem menos atributos\n",
    "    # pois o one-hot acrescenta mais\n",
    "    dot_data = StringIO()\n",
    "    export_graphviz(decision_tree_clf, out_file=dot_data,  \n",
    "                    filled=True, rounded=True,\n",
    "                    special_characters=True,feature_names = feature_names, class_names=['No','Yes'])\n",
    "    graph = pydotplus.graph_from_dot_data(dot_data.getvalue())  \n",
    "    graph.write_png(file_name)\n",
    "    #clf_image_png = graph.create_png()\n",
    "    \n",
    "    #Image(clf_image_png)"
   ]
  },
  {
   "cell_type": "code",
   "execution_count": 3,
   "id": "413230d5-5606-46f0-94b2-f976ea0b6913",
   "metadata": {
    "pycharm": {
     "name": "#%%\n"
    }
   },
   "outputs": [],
   "source": [
    "#link para o dataset: \n",
    "DATASET_URL = 'salary.csv'\n",
    "dataset = pd.read_csv(DATASET_URL)\n",
    "original_dataset = dataset.copy()"
   ]
  },
  {
   "cell_type": "code",
   "execution_count": 4,
   "id": "60b67e06-240f-45a0-8a24-9c7703d5cace",
   "metadata": {
    "pycharm": {
     "name": "#%%\n"
    }
   },
   "outputs": [
    {
     "data": {
      "text/plain": "   age          workclass  fnlwgt   education  education-num  \\\n0   39          State-gov   77516   Bachelors             13   \n1   50   Self-emp-not-inc   83311   Bachelors             13   \n2   38            Private  215646     HS-grad              9   \n3   53            Private  234721        11th              7   \n4   28            Private  338409   Bachelors             13   \n\n        marital-status          occupation    relationship    race      sex  \\\n0        Never-married        Adm-clerical   Not-in-family   White     Male   \n1   Married-civ-spouse     Exec-managerial         Husband   White     Male   \n2             Divorced   Handlers-cleaners   Not-in-family   White     Male   \n3   Married-civ-spouse   Handlers-cleaners         Husband   Black     Male   \n4   Married-civ-spouse      Prof-specialty            Wife   Black   Female   \n\n   capital-gain  capital-loss  hours-per-week  native-country  salary  \n0          2174             0              40   United-States   <=50K  \n1             0             0              13   United-States   <=50K  \n2             0             0              40   United-States   <=50K  \n3             0             0              40   United-States   <=50K  \n4             0             0              40            Cuba   <=50K  ",
      "text/html": "<div>\n<style scoped>\n    .dataframe tbody tr th:only-of-type {\n        vertical-align: middle;\n    }\n\n    .dataframe tbody tr th {\n        vertical-align: top;\n    }\n\n    .dataframe thead th {\n        text-align: right;\n    }\n</style>\n<table border=\"1\" class=\"dataframe\">\n  <thead>\n    <tr style=\"text-align: right;\">\n      <th></th>\n      <th>age</th>\n      <th>workclass</th>\n      <th>fnlwgt</th>\n      <th>education</th>\n      <th>education-num</th>\n      <th>marital-status</th>\n      <th>occupation</th>\n      <th>relationship</th>\n      <th>race</th>\n      <th>sex</th>\n      <th>capital-gain</th>\n      <th>capital-loss</th>\n      <th>hours-per-week</th>\n      <th>native-country</th>\n      <th>salary</th>\n    </tr>\n  </thead>\n  <tbody>\n    <tr>\n      <th>0</th>\n      <td>39</td>\n      <td>State-gov</td>\n      <td>77516</td>\n      <td>Bachelors</td>\n      <td>13</td>\n      <td>Never-married</td>\n      <td>Adm-clerical</td>\n      <td>Not-in-family</td>\n      <td>White</td>\n      <td>Male</td>\n      <td>2174</td>\n      <td>0</td>\n      <td>40</td>\n      <td>United-States</td>\n      <td>&lt;=50K</td>\n    </tr>\n    <tr>\n      <th>1</th>\n      <td>50</td>\n      <td>Self-emp-not-inc</td>\n      <td>83311</td>\n      <td>Bachelors</td>\n      <td>13</td>\n      <td>Married-civ-spouse</td>\n      <td>Exec-managerial</td>\n      <td>Husband</td>\n      <td>White</td>\n      <td>Male</td>\n      <td>0</td>\n      <td>0</td>\n      <td>13</td>\n      <td>United-States</td>\n      <td>&lt;=50K</td>\n    </tr>\n    <tr>\n      <th>2</th>\n      <td>38</td>\n      <td>Private</td>\n      <td>215646</td>\n      <td>HS-grad</td>\n      <td>9</td>\n      <td>Divorced</td>\n      <td>Handlers-cleaners</td>\n      <td>Not-in-family</td>\n      <td>White</td>\n      <td>Male</td>\n      <td>0</td>\n      <td>0</td>\n      <td>40</td>\n      <td>United-States</td>\n      <td>&lt;=50K</td>\n    </tr>\n    <tr>\n      <th>3</th>\n      <td>53</td>\n      <td>Private</td>\n      <td>234721</td>\n      <td>11th</td>\n      <td>7</td>\n      <td>Married-civ-spouse</td>\n      <td>Handlers-cleaners</td>\n      <td>Husband</td>\n      <td>Black</td>\n      <td>Male</td>\n      <td>0</td>\n      <td>0</td>\n      <td>40</td>\n      <td>United-States</td>\n      <td>&lt;=50K</td>\n    </tr>\n    <tr>\n      <th>4</th>\n      <td>28</td>\n      <td>Private</td>\n      <td>338409</td>\n      <td>Bachelors</td>\n      <td>13</td>\n      <td>Married-civ-spouse</td>\n      <td>Prof-specialty</td>\n      <td>Wife</td>\n      <td>Black</td>\n      <td>Female</td>\n      <td>0</td>\n      <td>0</td>\n      <td>40</td>\n      <td>Cuba</td>\n      <td>&lt;=50K</td>\n    </tr>\n  </tbody>\n</table>\n</div>"
     },
     "execution_count": 4,
     "metadata": {},
     "output_type": "execute_result"
    }
   ],
   "source": [
    "dataset.head()"
   ]
  },
  {
   "cell_type": "code",
   "execution_count": 5,
   "id": "c39ac4b1-a021-4e64-8b0e-1592a9eefa18",
   "metadata": {
    "pycharm": {
     "name": "#%%\n"
    }
   },
   "outputs": [],
   "source": [
    "#Iniciando análise exploratória dos dados"
   ]
  },
  {
   "cell_type": "code",
   "execution_count": 6,
   "id": "b315cc0a-7030-43cb-8a10-9d99080c6208",
   "metadata": {
    "pycharm": {
     "name": "#%%\n"
    }
   },
   "outputs": [
    {
     "name": "stdout",
     "output_type": "stream",
     "text": [
      "32561\n",
      "32561\n"
     ]
    }
   ],
   "source": [
    "#Sem valores não preenchidos nas colunas\n",
    "print(len(dataset))\n",
    "print(len(dataset.dropna()))"
   ]
  },
  {
   "cell_type": "code",
   "execution_count": 7,
   "id": "e75cc066-f169-44b5-b111-ab485f331948",
   "metadata": {
    "pycharm": {
     "name": "#%%\n"
    }
   },
   "outputs": [
    {
     "name": "stdout",
     "output_type": "stream",
     "text": [
      "Index(['age', 'workclass', 'fnlwgt', 'education', 'education-num',\n",
      "       'marital-status', 'occupation', 'relationship', 'race', 'sex',\n",
      "       'capital-gain', 'capital-loss', 'hours-per-week', 'native-country',\n",
      "       'salary'],\n",
      "      dtype='object')\n"
     ]
    }
   ],
   "source": [
    "print(dataset.columns)"
   ]
  },
  {
   "cell_type": "code",
   "execution_count": 8,
   "id": "3501f737-a76a-4fe7-874f-d07e8ecda2c9",
   "metadata": {
    "pycharm": {
     "name": "#%%\n"
    }
   },
   "outputs": [
    {
     "name": "stdout",
     "output_type": "stream",
     "text": [
      "[' State-gov' ' Self-emp-not-inc' ' Private' ' Federal-gov' ' Local-gov'\n",
      " ' ?' ' Self-emp-inc' ' Without-pay' ' Never-worked']\n",
      "9\n"
     ]
    }
   ],
   "source": [
    "#tipos workclass\n",
    "workclass_unique_values = dataset['workclass'].unique()\n",
    "print(workclass_unique_values)\n",
    "print(len(workclass_unique_values))\n",
    "\n",
    "#Conclusão: podemos(e faz sentido) categorizar esses dados e utilizarmos para treinar nosso classificador"
   ]
  },
  {
   "cell_type": "code",
   "execution_count": 9,
   "outputs": [
    {
     "name": "stdout",
     "output_type": "stream",
     "text": [
      "[' Bachelors' ' HS-grad' ' 11th' ' Masters' ' 9th' ' Some-college'\n",
      " ' Assoc-acdm' ' Assoc-voc' ' 7th-8th' ' Doctorate' ' Prof-school'\n",
      " ' 5th-6th' ' 10th' ' 1st-4th' ' Preschool' ' 12th']\n",
      "16\n"
     ]
    }
   ],
   "source": [
    "#tipos education\n",
    "education_unique_values = dataset['education'].unique()\n",
    "print(education_unique_values)\n",
    "print(len(education_unique_values))"
   ],
   "metadata": {
    "collapsed": false,
    "pycharm": {
     "name": "#%%\n"
    }
   }
  },
  {
   "cell_type": "code",
   "execution_count": 10,
   "outputs": [
    {
     "name": "stdout",
     "output_type": "stream",
     "text": [
      "[' Never-married' ' Married-civ-spouse' ' Divorced'\n",
      " ' Married-spouse-absent' ' Separated' ' Married-AF-spouse' ' Widowed']\n",
      "7\n"
     ]
    }
   ],
   "source": [
    "#tipos marital-status\n",
    "marital_status_unique_values = dataset['marital-status'].unique()\n",
    "print(marital_status_unique_values)\n",
    "print(len(marital_status_unique_values))"
   ],
   "metadata": {
    "collapsed": false,
    "pycharm": {
     "name": "#%%\n"
    }
   }
  },
  {
   "cell_type": "code",
   "execution_count": 11,
   "outputs": [
    {
     "name": "stdout",
     "output_type": "stream",
     "text": [
      "[' Adm-clerical' ' Exec-managerial' ' Handlers-cleaners' ' Prof-specialty'\n",
      " ' Other-service' ' Sales' ' Craft-repair' ' Transport-moving'\n",
      " ' Farming-fishing' ' Machine-op-inspct' ' Tech-support' ' ?'\n",
      " ' Protective-serv' ' Armed-Forces' ' Priv-house-serv']\n",
      "15\n"
     ]
    }
   ],
   "source": [
    "#tipos occupation\n",
    "occupation_unique_values = dataset['occupation'].unique()\n",
    "print(occupation_unique_values)\n",
    "print(len(occupation_unique_values))"
   ],
   "metadata": {
    "collapsed": false,
    "pycharm": {
     "name": "#%%\n"
    }
   }
  },
  {
   "cell_type": "code",
   "execution_count": 12,
   "outputs": [
    {
     "name": "stdout",
     "output_type": "stream",
     "text": [
      "[' Not-in-family' ' Husband' ' Wife' ' Own-child' ' Unmarried'\n",
      " ' Other-relative']\n",
      "6\n"
     ]
    }
   ],
   "source": [
    "#tipos relationship\n",
    "relationship_unique_values = dataset['relationship'].unique()\n",
    "print(relationship_unique_values)\n",
    "print(len(relationship_unique_values))"
   ],
   "metadata": {
    "collapsed": false,
    "pycharm": {
     "name": "#%%\n"
    }
   }
  },
  {
   "cell_type": "code",
   "execution_count": 13,
   "outputs": [
    {
     "name": "stdout",
     "output_type": "stream",
     "text": [
      "[' White' ' Black' ' Asian-Pac-Islander' ' Amer-Indian-Eskimo' ' Other']\n",
      "5\n"
     ]
    }
   ],
   "source": [
    "#tipos race\n",
    "race_unique_values = dataset['race'].unique()\n",
    "print(race_unique_values)\n",
    "print(len(race_unique_values))"
   ],
   "metadata": {
    "collapsed": false,
    "pycharm": {
     "name": "#%%\n"
    }
   }
  },
  {
   "cell_type": "code",
   "execution_count": 14,
   "outputs": [
    {
     "name": "stdout",
     "output_type": "stream",
     "text": [
      "[' Male' ' Female']\n",
      "2\n"
     ]
    }
   ],
   "source": [
    "#tipos sex\n",
    "sex_unique_values = dataset['sex'].unique()\n",
    "print(sex_unique_values)\n",
    "print(len(sex_unique_values))"
   ],
   "metadata": {
    "collapsed": false,
    "pycharm": {
     "name": "#%%\n"
    }
   }
  },
  {
   "cell_type": "code",
   "execution_count": 15,
   "outputs": [
    {
     "name": "stdout",
     "output_type": "stream",
     "text": [
      "[' United-States' ' Cuba' ' Jamaica' ' India' ' ?' ' Mexico' ' South'\n",
      " ' Puerto-Rico' ' Honduras' ' England' ' Canada' ' Germany' ' Iran'\n",
      " ' Philippines' ' Italy' ' Poland' ' Columbia' ' Cambodia' ' Thailand'\n",
      " ' Ecuador' ' Laos' ' Taiwan' ' Haiti' ' Portugal' ' Dominican-Republic'\n",
      " ' El-Salvador' ' France' ' Guatemala' ' China' ' Japan' ' Yugoslavia'\n",
      " ' Peru' ' Outlying-US(Guam-USVI-etc)' ' Scotland' ' Trinadad&Tobago'\n",
      " ' Greece' ' Nicaragua' ' Vietnam' ' Hong' ' Ireland' ' Hungary'\n",
      " ' Holand-Netherlands']\n",
      "42\n"
     ]
    }
   ],
   "source": [
    "#tipos native-country\n",
    "native_country_unique_values = dataset['native-country'].unique()\n",
    "print(native_country_unique_values)\n",
    "print(len(native_country_unique_values))"
   ],
   "metadata": {
    "collapsed": false,
    "pycharm": {
     "name": "#%%\n"
    }
   }
  },
  {
   "cell_type": "code",
   "execution_count": 17,
   "outputs": [
    {
     "name": "stdout",
     "output_type": "stream",
     "text": [
      "[' <=50K' ' >50K']\n",
      "2\n"
     ]
    }
   ],
   "source": [
    "#tipos native-country\n",
    "salary_unique_values = dataset['salary'].unique()\n",
    "print(salary_unique_values)\n",
    "print(len(salary_unique_values))"
   ],
   "metadata": {
    "collapsed": false,
    "pycharm": {
     "name": "#%%\n"
    }
   }
  },
  {
   "cell_type": "code",
   "execution_count": null,
   "id": "12d05175-9220-450a-890c-7b8667fcebaf",
   "metadata": {
    "pycharm": {
     "name": "#%%\n"
    }
   },
   "outputs": [],
   "source": [
    "#Boxplot do oldbalanceOrg\n",
    "print('| Máximo | Mediana | Mínimo | : | {0} | {1} | {2} |'\\\n",
    "      .format(dataset['oldbalanceOrg'].max(), dataset['oldbalanceOrg'].median(), dataset['oldbalanceOrg'].min()))\n",
    "bplots = plt.boxplot(dataset['oldbalanceOrg'],  vert = 0)"
   ]
  },
  {
   "cell_type": "code",
   "execution_count": null,
   "id": "525c5dfb-8318-47b3-8c33-6fcb6b2553f3",
   "metadata": {
    "pycharm": {
     "name": "#%%\n"
    }
   },
   "outputs": [],
   "source": [
    "#Boxplot do newbalanceOrig\n",
    "print('| Máximo | Mediana | Mínimo | : | {0} | {1} | {2} |'\\\n",
    "      .format(dataset['newbalanceOrig'].max(), dataset['newbalanceOrig'].median(), dataset['newbalanceOrig'].min()))\n",
    "bplots = plt.boxplot(dataset['newbalanceOrig'],  vert = 0)"
   ]
  },
  {
   "cell_type": "code",
   "execution_count": null,
   "id": "e720b888-46cc-4366-acc5-f05414f0df8c",
   "metadata": {
    "pycharm": {
     "name": "#%%\n"
    }
   },
   "outputs": [],
   "source": [
    "#Boxplot do oldbalanceDest\n",
    "print('| Máximo | Mediana | Mínimo | : | {0} | {1} | {2} |'\\\n",
    "      .format(dataset['oldbalanceDest'].max(), dataset['oldbalanceDest'].median(), dataset['oldbalanceDest'].min()))\n",
    "bplots = plt.boxplot(dataset['oldbalanceDest'],  vert = 0)"
   ]
  },
  {
   "cell_type": "code",
   "execution_count": null,
   "id": "0e0b6f32-d931-4c23-a3e5-f5392fd00e67",
   "metadata": {
    "pycharm": {
     "name": "#%%\n"
    }
   },
   "outputs": [],
   "source": [
    "#Boxplot do newbalanceDest\n",
    "print('| Máximo | Mediana | Mínimo | : | {0} | {1} | {2} |'\\\n",
    "      .format(dataset['newbalanceDest'].max(), dataset['newbalanceDest'].median(), dataset['newbalanceDest'].min()))\n",
    "bplots = plt.boxplot(dataset['newbalanceDest'],  vert = 0)"
   ]
  },
  {
   "cell_type": "code",
   "execution_count": null,
   "id": "ea6e68ce-dde9-4df8-8f84-4366c053faca",
   "metadata": {
    "pycharm": {
     "name": "#%%\n"
    }
   },
   "outputs": [],
   "source": [
    "# Conclusão a partir dos boxplots dos balanços: posso reduzir o número de colunas, \n",
    "# considerar somente o valor que entrou na conta de destino e saiu da conta de origem"
   ]
  },
  {
   "cell_type": "code",
   "execution_count": null,
   "id": "cbce257e-68d5-4194-8218-d8f153d3ee24",
   "metadata": {
    "pycharm": {
     "name": "#%%\n"
    }
   },
   "outputs": [],
   "source": [
    "# Boxplot da coluna step\n",
    "print('| Máximo | Mediana | Mínimo | : | {0} | {1} | {2} |'\\\n",
    "      .format(dataset['step'].max(), dataset['step'].median(), dataset['step'].min()))\n",
    "bplots = plt.boxplot(dataset['step'],  vert = 0)"
   ]
  },
  {
   "cell_type": "code",
   "execution_count": null,
   "id": "e0f9bc18-8f76-4274-9686-31f216119692",
   "metadata": {
    "pycharm": {
     "name": "#%%\n"
    }
   },
   "outputs": [],
   "source": [
    "heatmap(dataset.corr())"
   ]
  },
  {
   "cell_type": "code",
   "execution_count": null,
   "id": "ab49e023-c91e-41b0-9298-9ddd16c8e9d3",
   "metadata": {
    "pycharm": {
     "name": "#%%\n"
    }
   },
   "outputs": [],
   "source": [
    "#Transformação do dataset, seleção das features\n",
    "\n",
    "dataset['balanceDeltaOrig'] = original_dataset['newbalanceOrig'] - original_dataset['oldbalanceOrg']\n",
    "dataset['balanceDeltaDest'] = original_dataset['newbalanceDest'] - original_dataset['oldbalanceDest']\n",
    "\n",
    "feature_cols = ['amount','oldbalanceOrg', 'newbalanceOrig', 'oldbalanceDest', 'newbalanceDest']\n",
    "target_col = 'isFraud'\n",
    "\n",
    "dummy_columns = ['type']\n",
    "\n",
    "prepared_dummy_columns = pd.get_dummies(dataset[dummy_columns])\n",
    "\n",
    "combined = pd.concat([dataset, prepared_dummy_columns], axis=1)\n",
    "\n",
    "feature_cols.extend(prepared_dummy_columns.columns.values.tolist())\n",
    "\n",
    "X = combined[feature_cols]\n",
    "y = combined[target_col]\n",
    "\n",
    "X.head()"
   ]
  },
  {
   "cell_type": "code",
   "execution_count": null,
   "id": "af257dd3-bf82-4d21-a0d7-0a2615587514",
   "metadata": {
    "pycharm": {
     "name": "#%%\n"
    }
   },
   "outputs": [],
   "source": [
    "#Treino\n",
    "test_percentage = 0.05\n",
    "X_train, X_test, y_train, y_test = \\\n",
    "    train_test_split(X, y, test_size=test_percentage)\n",
    "\n",
    "# Criação do classificador de árvore de decisão \n",
    "clf = DecisionTreeClassifier(criterion=\"entropy\")\n",
    "\n",
    "# Usamos o método fit para construir o classificador a partir do nosso conjunto de treinamento\n",
    "clf = clf.fit(X_train, y_train)\n",
    "\n",
    "train_accuracy = clf.score(X_train, y_train)\n",
    "\n",
    "# Usando modelo para classificar os dados que temos a disposição\n",
    "y_pred = clf.predict(X_test)\n",
    "test_accuracy = metrics.accuracy_score(y_test, y_pred)\n",
    "\n",
    "print('| Train accuracy | Test accuracy | : | {0} | {1} |'.format(train_accuracy, test_accuracy))"
   ]
  },
  {
   "cell_type": "code",
   "execution_count": null,
   "id": "92fe195f-5cb8-426c-a141-7aad9e553d4c",
   "metadata": {
    "pycharm": {
     "name": "#%%\n"
    }
   },
   "outputs": [],
   "source": [
    "print_decision_tree(clf, X.columns)"
   ]
  },
  {
   "cell_type": "code",
   "execution_count": null,
   "id": "75c33299-d4e2-4eb2-9988-2e5d0da44bf6",
   "metadata": {
    "pycharm": {
     "name": "#%%\n"
    }
   },
   "outputs": [],
   "source": [
    "#Teste\n",
    "random_element = random.randint(0, len(X))\n",
    "sample = X.iloc[[random_element]]\n",
    "target_of_sample = y.iloc[[random_element]]\n",
    "\n",
    "pred_sample = clf.predict(sample)\n",
    "\n",
    "print(pred_sample)\n",
    "print(target_of_sample)"
   ]
  },
  {
   "cell_type": "code",
   "execution_count": null,
   "id": "72fd3b30-b6ed-46cb-84e6-74e5fed2c18c",
   "metadata": {
    "pycharm": {
     "name": "#%%\n"
    }
   },
   "outputs": [],
   "source": [
    "def fit_and_test_decision_tree_clf(X, y,criterion, test_percentage, max_depth = 10000):\n",
    "    X_train, X_test, y_train, y_test = \\\n",
    "        train_test_split(X, y, test_size=test_percentage)\n",
    "\n",
    "    # Criação do classificador de árvore de decisão \n",
    "    classifier = DecisionTreeClassifier(criterion=criterion, max_depth = max_depth)\n",
    "\n",
    "    # Usamos o método fit para construir o classificador a partir do nosso conjunto de treinamento\n",
    "    classifier = classifier.fit(X_train, y_train)\n",
    "    \n",
    "    train_accuracy = classifier.score(X_train, y_train)\n",
    "\n",
    "    # Usando modelo para classificar os dados que temos a disposição\n",
    "    y_pred = classifier.predict(X_test)\n",
    "    test_accuracy = metrics.accuracy_score(y_test, y_pred)\n",
    "    \n",
    "    return classifier, train_accuracy, test_accuracy"
   ]
  },
  {
   "cell_type": "code",
   "execution_count": null,
   "id": "5deb9e9e",
   "metadata": {
    "pycharm": {
     "name": "#%%\n"
    }
   },
   "outputs": [],
   "source": [
    "def calculateDecisionTreeKfold(n_splits, shuffle, random_state, X, y):\n",
    "    kfold = KFold(n_splits=14, shuffle=True, random_state=80)\n",
    "    model_dtc_kfold_3_entropy = DecisionTreeClassifier(criterion=\"entropy\")\n",
    "    print(kfold.get_n_splits(X))\n",
    "    # Médias\n",
    "    accuracy_med_train = 0\n",
    "    accuracy_med_test = 0\n",
    "    count_split = 0\n",
    "    for train_index, test_index in kfold.split(X):\n",
    "        count_split +=1\n",
    "        print(\" Treino:\", train_index, \"Teste:\", test_index)\n",
    "        X_train, X_test = X.loc[train_index,:], X.loc[test_index,:]\n",
    "        y_train, y_test = y[train_index], y[test_index]\n",
    "        model_dtc_kfold_3_entropy.fit(X_train, y_train)\n",
    "        y_pred_train = model_dtc_kfold_3_entropy.predict(X_train)\n",
    "        y_pred_test = model_dtc_kfold_3_entropy.predict(X_test)\n",
    "        # Cálculo das acurácias\n",
    "        accuracy_train = metrics.accuracy_score(y_train, y_pred_train)\n",
    "        accuracy_test = metrics.accuracy_score(y_test, y_pred_test)\n",
    "        print(\"Iteração: \" + str(count_split) + \" \\n\" + \"Acurácia do treinamento: \" + str(accuracy_train) + \" \\n\" + \"Acurácia do teste: \" + str(accuracy_test))\n",
    "        # Cálculo das médias\n",
    "        accuracy_med_train += accuracy_train/kfold.get_n_splits(X)\n",
    "        accuracy_med_test += accuracy_test/kfold.get_n_splits(X)\n",
    "    print(\"Acurácia média do treinamento:\", accuracy_med_train)\n",
    "    print(\"Acurácia média do teste:\", accuracy_med_test)"
   ]
  },
  {
   "cell_type": "markdown",
   "id": "de23af9e",
   "metadata": {
    "pycharm": {
     "name": "#%% md\n"
    }
   },
   "source": [
    "# Experimento n:\n",
    "**Situação Inicial:**\n",
    "* Classificador **Entropy**\n",
    "* K-fold 5\n"
   ]
  },
  {
   "cell_type": "code",
   "execution_count": 26,
   "id": "cb8c8341",
   "metadata": {
    "pycharm": {
     "name": "#%%\n"
    }
   },
   "outputs": [
    {
     "name": "stdout",
     "output_type": "stream",
     "text": [
      "14\n",
      " Treino: [      0       1       2 ... 6362617 6362618 6362619] Teste: [     17      23      39 ... 6362536 6362600 6362614]\n",
      "Iteração: 1 \n",
      "Acurácia para o treinamento: 1.0 \n",
      "Acurácia para o teste: 0.999786565978617\n",
      " Treino: [      0       1       2 ... 6362617 6362618 6362619] Teste: [     15      20      57 ... 6362547 6362562 6362565]\n",
      "Iteração: 2 \n",
      "Acurácia para o treinamento: 1.0 \n",
      "Acurácia para o teste: 0.9997557610683143\n",
      " Treino: [      0       1       3 ... 6362617 6362618 6362619] Teste: [      2      40      50 ... 6362559 6362571 6362588]\n",
      "Iteração: 3 \n",
      "Acurácia para o treinamento: 1.0 \n",
      "Acurácia para o teste: 0.999786565978617\n",
      " Treino: [      0       1       2 ... 6362616 6362618 6362619] Teste: [      7       9      34 ... 6362586 6362611 6362617]\n",
      "Iteração: 4 \n",
      "Acurácia para o treinamento: 1.0 \n",
      "Acurácia para o teste: 0.9997843656278811\n",
      " Treino: [      0       1       2 ... 6362615 6362616 6362617] Teste: [      3       4      19 ... 6362607 6362618 6362619]\n",
      "Iteração: 5 \n",
      "Acurácia para o treinamento: 1.0 \n",
      "Acurácia para o teste: 0.9998085694859761\n",
      " Treino: [      0       1       2 ... 6362617 6362618 6362619] Teste: [     51      55      56 ... 6362578 6362581 6362587]\n",
      "Iteração: 6 \n",
      "Acurácia para o treinamento: 1.0 \n",
      "Acurácia para o teste: 0.9997953673815606\n",
      " Treino: [      0       1       2 ... 6362617 6362618 6362619] Teste: [     11      25      28 ... 6362595 6362597 6362613]\n",
      "Iteração: 7 \n",
      "Acurácia para o treinamento: 1.0 \n",
      "Acurácia para o teste: 0.9997711635234656\n",
      " Treino: [      0       1       2 ... 6362617 6362618 6362619] Teste: [     14      22      26 ... 6362566 6362582 6362608]\n"
     ]
    }
   ],
   "source": [
    "calculateDecisionTreeKfold(14, True, 80, X, y)"
   ]
  }
 ],
 "metadata": {
  "colab": {
   "include_colab_link": true,
   "name": "arvore-decisao-parte2.ipynb",
   "provenance": []
  },
  "kernelspec": {
   "display_name": "Python 3 (ipykernel)",
   "language": "python",
   "name": "python3"
  },
  "language_info": {
   "codemirror_mode": {
    "name": "ipython",
    "version": 3
   },
   "file_extension": ".py",
   "mimetype": "text/x-python",
   "name": "python",
   "nbconvert_exporter": "python",
   "pygments_lexer": "ipython3",
   "version": "3.10.5"
  },
  "vscode": {
   "interpreter": {
    "hash": "4f196f7554b24332a19ef2d1e38c36eeb19a86dc137a0ce6d9673ab017d6f1b7"
   }
  }
 },
 "nbformat": 4,
 "nbformat_minor": 5
}