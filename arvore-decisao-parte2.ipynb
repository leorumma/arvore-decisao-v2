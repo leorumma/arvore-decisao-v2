{
 "cells": [
  {
   "cell_type": "markdown",
   "id": "d209c204",
   "metadata": {
    "colab_type": "text",
    "id": "view-in-github",
    "pycharm": {
     "name": "#%% md\n"
    }
   },
   "source": [
    "<a href=\"https://colab.research.google.com/github/leorumma/arvore-decisao-v2/blob/main/arvore-decisao-parte2.ipynb\" target=\"_parent\"><img src=\"https://colab.research.google.com/assets/colab-badge.svg\" alt=\"Open In Colab\"/></a>"
   ]
  },
  {
   "cell_type": "code",
   "execution_count": 25,
   "id": "a344f771",
   "metadata": {
    "id": "a344f771",
    "pycharm": {
     "name": "#%%\n"
    }
   },
   "outputs": [],
   "source": [
    "import pandas as pd\n",
    "from sklearn.tree import DecisionTreeClassifier\n",
    "from sklearn import metrics\n",
    "from sklearn.model_selection import train_test_split\n",
    "from sklearn.model_selection import KFold\n",
    "from seaborn import heatmap\n",
    "import matplotlib.pyplot as plt\n",
    "import random\n",
    "\n",
    "#criar os gráficos das árvores de decisão\n",
    "from sklearn.tree import export_graphviz\n",
    "from six import StringIO\n",
    "from IPython.display import Image  \n",
    "import pydotplus"
   ]
  },
  {
   "cell_type": "code",
   "execution_count": 26,
   "id": "6cc9b5c2-0e25-424d-b1a1-505abbb050b5",
   "metadata": {
    "pycharm": {
     "name": "#%%\n"
    }
   },
   "outputs": [],
   "source": [
    "def generate_decision_tree_png(decision_tree_clf, feature_names, file_name = 'arvore1.png'):\n",
    "    # tem que usar feature_names = one_hot_data.columns pois feature_names = feature_cols tem menos atributos\n",
    "    # pois o one-hot acrescenta mais\n",
    "    dot_data = StringIO()\n",
    "    export_graphviz(decision_tree_clf, out_file=dot_data,  \n",
    "                    filled=True, rounded=True,\n",
    "                    special_characters=True,feature_names = feature_names, class_names=['No','Yes'])\n",
    "    graph = pydotplus.graph_from_dot_data(dot_data.getvalue())  \n",
    "    graph.write_png(file_name)\n",
    "    clf_image_png = graph.create_png()\n",
    "    \n",
    "    Image(clf_image_png)"
   ]
  },
  {
   "cell_type": "code",
   "execution_count": 27,
   "id": "413230d5-5606-46f0-94b2-f976ea0b6913",
   "metadata": {
    "pycharm": {
     "name": "#%%\n"
    }
   },
   "outputs": [],
   "source": [
    "#link para o dataset: \n",
    "DATASET_URL = 'salary.csv'\n",
    "dataset = pd.read_csv(DATASET_URL)\n",
    "original_dataset = dataset.copy()"
   ]
  },
  {
   "cell_type": "code",
   "execution_count": 28,
   "id": "60b67e06-240f-45a0-8a24-9c7703d5cace",
   "metadata": {
    "pycharm": {
     "name": "#%%\n"
    }
   },
   "outputs": [
    {
     "data": {
      "text/plain": "   age          workclass  fnlwgt   education  education-num  \\\n0   39          State-gov   77516   Bachelors             13   \n1   50   Self-emp-not-inc   83311   Bachelors             13   \n2   38            Private  215646     HS-grad              9   \n3   53            Private  234721        11th              7   \n4   28            Private  338409   Bachelors             13   \n\n        marital-status          occupation    relationship    race      sex  \\\n0        Never-married        Adm-clerical   Not-in-family   White     Male   \n1   Married-civ-spouse     Exec-managerial         Husband   White     Male   \n2             Divorced   Handlers-cleaners   Not-in-family   White     Male   \n3   Married-civ-spouse   Handlers-cleaners         Husband   Black     Male   \n4   Married-civ-spouse      Prof-specialty            Wife   Black   Female   \n\n   capital-gain  capital-loss  hours-per-week  native-country  salary  \n0          2174             0              40   United-States   <=50K  \n1             0             0              13   United-States   <=50K  \n2             0             0              40   United-States   <=50K  \n3             0             0              40   United-States   <=50K  \n4             0             0              40            Cuba   <=50K  ",
      "text/html": "<div>\n<style scoped>\n    .dataframe tbody tr th:only-of-type {\n        vertical-align: middle;\n    }\n\n    .dataframe tbody tr th {\n        vertical-align: top;\n    }\n\n    .dataframe thead th {\n        text-align: right;\n    }\n</style>\n<table border=\"1\" class=\"dataframe\">\n  <thead>\n    <tr style=\"text-align: right;\">\n      <th></th>\n      <th>age</th>\n      <th>workclass</th>\n      <th>fnlwgt</th>\n      <th>education</th>\n      <th>education-num</th>\n      <th>marital-status</th>\n      <th>occupation</th>\n      <th>relationship</th>\n      <th>race</th>\n      <th>sex</th>\n      <th>capital-gain</th>\n      <th>capital-loss</th>\n      <th>hours-per-week</th>\n      <th>native-country</th>\n      <th>salary</th>\n    </tr>\n  </thead>\n  <tbody>\n    <tr>\n      <th>0</th>\n      <td>39</td>\n      <td>State-gov</td>\n      <td>77516</td>\n      <td>Bachelors</td>\n      <td>13</td>\n      <td>Never-married</td>\n      <td>Adm-clerical</td>\n      <td>Not-in-family</td>\n      <td>White</td>\n      <td>Male</td>\n      <td>2174</td>\n      <td>0</td>\n      <td>40</td>\n      <td>United-States</td>\n      <td>&lt;=50K</td>\n    </tr>\n    <tr>\n      <th>1</th>\n      <td>50</td>\n      <td>Self-emp-not-inc</td>\n      <td>83311</td>\n      <td>Bachelors</td>\n      <td>13</td>\n      <td>Married-civ-spouse</td>\n      <td>Exec-managerial</td>\n      <td>Husband</td>\n      <td>White</td>\n      <td>Male</td>\n      <td>0</td>\n      <td>0</td>\n      <td>13</td>\n      <td>United-States</td>\n      <td>&lt;=50K</td>\n    </tr>\n    <tr>\n      <th>2</th>\n      <td>38</td>\n      <td>Private</td>\n      <td>215646</td>\n      <td>HS-grad</td>\n      <td>9</td>\n      <td>Divorced</td>\n      <td>Handlers-cleaners</td>\n      <td>Not-in-family</td>\n      <td>White</td>\n      <td>Male</td>\n      <td>0</td>\n      <td>0</td>\n      <td>40</td>\n      <td>United-States</td>\n      <td>&lt;=50K</td>\n    </tr>\n    <tr>\n      <th>3</th>\n      <td>53</td>\n      <td>Private</td>\n      <td>234721</td>\n      <td>11th</td>\n      <td>7</td>\n      <td>Married-civ-spouse</td>\n      <td>Handlers-cleaners</td>\n      <td>Husband</td>\n      <td>Black</td>\n      <td>Male</td>\n      <td>0</td>\n      <td>0</td>\n      <td>40</td>\n      <td>United-States</td>\n      <td>&lt;=50K</td>\n    </tr>\n    <tr>\n      <th>4</th>\n      <td>28</td>\n      <td>Private</td>\n      <td>338409</td>\n      <td>Bachelors</td>\n      <td>13</td>\n      <td>Married-civ-spouse</td>\n      <td>Prof-specialty</td>\n      <td>Wife</td>\n      <td>Black</td>\n      <td>Female</td>\n      <td>0</td>\n      <td>0</td>\n      <td>40</td>\n      <td>Cuba</td>\n      <td>&lt;=50K</td>\n    </tr>\n  </tbody>\n</table>\n</div>"
     },
     "execution_count": 28,
     "metadata": {},
     "output_type": "execute_result"
    }
   ],
   "source": [
    "dataset.head()"
   ]
  },
  {
   "cell_type": "code",
   "execution_count": 29,
   "id": "c39ac4b1-a021-4e64-8b0e-1592a9eefa18",
   "metadata": {
    "pycharm": {
     "name": "#%%\n"
    }
   },
   "outputs": [],
   "source": [
    "#Iniciando análise exploratória dos dados"
   ]
  },
  {
   "cell_type": "code",
   "execution_count": 30,
   "id": "b315cc0a-7030-43cb-8a10-9d99080c6208",
   "metadata": {
    "pycharm": {
     "name": "#%%\n"
    }
   },
   "outputs": [
    {
     "name": "stdout",
     "output_type": "stream",
     "text": [
      "32561\n",
      "32561\n"
     ]
    }
   ],
   "source": [
    "#Sem valores não preenchidos nas colunas\n",
    "print(len(dataset))\n",
    "print(len(dataset.dropna()))"
   ]
  },
  {
   "cell_type": "code",
   "execution_count": 31,
   "id": "e75cc066-f169-44b5-b111-ab485f331948",
   "metadata": {
    "pycharm": {
     "name": "#%%\n"
    }
   },
   "outputs": [
    {
     "name": "stdout",
     "output_type": "stream",
     "text": [
      "Index(['age', 'workclass', 'fnlwgt', 'education', 'education-num',\n",
      "       'marital-status', 'occupation', 'relationship', 'race', 'sex',\n",
      "       'capital-gain', 'capital-loss', 'hours-per-week', 'native-country',\n",
      "       'salary'],\n",
      "      dtype='object')\n"
     ]
    }
   ],
   "source": [
    "print(dataset.columns)"
   ]
  },
  {
   "cell_type": "code",
   "execution_count": 32,
   "id": "3501f737-a76a-4fe7-874f-d07e8ecda2c9",
   "metadata": {
    "pycharm": {
     "name": "#%%\n"
    }
   },
   "outputs": [
    {
     "name": "stdout",
     "output_type": "stream",
     "text": [
      "[' State-gov' ' Self-emp-not-inc' ' Private' ' Federal-gov' ' Local-gov'\n",
      " ' ?' ' Self-emp-inc' ' Without-pay' ' Never-worked']\n",
      "9\n"
     ]
    }
   ],
   "source": [
    "#tipos workclass\n",
    "workclass_unique_values = dataset['workclass'].unique()\n",
    "print(workclass_unique_values)\n",
    "print(len(workclass_unique_values))\n",
    "\n",
    "#Conclusão: podemos(e faz sentido) categorizar esses dados e utilizarmos para treinar nosso classificador"
   ]
  },
  {
   "cell_type": "code",
   "execution_count": 33,
   "outputs": [
    {
     "name": "stdout",
     "output_type": "stream",
     "text": [
      "[' Bachelors' ' HS-grad' ' 11th' ' Masters' ' 9th' ' Some-college'\n",
      " ' Assoc-acdm' ' Assoc-voc' ' 7th-8th' ' Doctorate' ' Prof-school'\n",
      " ' 5th-6th' ' 10th' ' 1st-4th' ' Preschool' ' 12th']\n",
      "16\n"
     ]
    }
   ],
   "source": [
    "#tipos education\n",
    "education_unique_values = dataset['education'].unique()\n",
    "print(education_unique_values)\n",
    "print(len(education_unique_values))"
   ],
   "metadata": {
    "collapsed": false,
    "pycharm": {
     "name": "#%%\n"
    }
   }
  },
  {
   "cell_type": "code",
   "execution_count": 34,
   "outputs": [
    {
     "name": "stdout",
     "output_type": "stream",
     "text": [
      "[' Never-married' ' Married-civ-spouse' ' Divorced'\n",
      " ' Married-spouse-absent' ' Separated' ' Married-AF-spouse' ' Widowed']\n",
      "7\n"
     ]
    }
   ],
   "source": [
    "#tipos marital-status\n",
    "marital_status_unique_values = dataset['marital-status'].unique()\n",
    "print(marital_status_unique_values)\n",
    "print(len(marital_status_unique_values))"
   ],
   "metadata": {
    "collapsed": false,
    "pycharm": {
     "name": "#%%\n"
    }
   }
  },
  {
   "cell_type": "code",
   "execution_count": 35,
   "outputs": [
    {
     "name": "stdout",
     "output_type": "stream",
     "text": [
      "[' Adm-clerical' ' Exec-managerial' ' Handlers-cleaners' ' Prof-specialty'\n",
      " ' Other-service' ' Sales' ' Craft-repair' ' Transport-moving'\n",
      " ' Farming-fishing' ' Machine-op-inspct' ' Tech-support' ' ?'\n",
      " ' Protective-serv' ' Armed-Forces' ' Priv-house-serv']\n",
      "15\n"
     ]
    }
   ],
   "source": [
    "#tipos occupation\n",
    "occupation_unique_values = dataset['occupation'].unique()\n",
    "print(occupation_unique_values)\n",
    "print(len(occupation_unique_values))"
   ],
   "metadata": {
    "collapsed": false,
    "pycharm": {
     "name": "#%%\n"
    }
   }
  },
  {
   "cell_type": "code",
   "execution_count": 36,
   "outputs": [
    {
     "name": "stdout",
     "output_type": "stream",
     "text": [
      "[' Not-in-family' ' Husband' ' Wife' ' Own-child' ' Unmarried'\n",
      " ' Other-relative']\n",
      "6\n"
     ]
    }
   ],
   "source": [
    "#tipos relationship\n",
    "relationship_unique_values = dataset['relationship'].unique()\n",
    "print(relationship_unique_values)\n",
    "print(len(relationship_unique_values))"
   ],
   "metadata": {
    "collapsed": false,
    "pycharm": {
     "name": "#%%\n"
    }
   }
  },
  {
   "cell_type": "code",
   "execution_count": 37,
   "outputs": [
    {
     "name": "stdout",
     "output_type": "stream",
     "text": [
      "[' White' ' Black' ' Asian-Pac-Islander' ' Amer-Indian-Eskimo' ' Other']\n",
      "5\n"
     ]
    }
   ],
   "source": [
    "#tipos race\n",
    "race_unique_values = dataset['race'].unique()\n",
    "print(race_unique_values)\n",
    "print(len(race_unique_values))"
   ],
   "metadata": {
    "collapsed": false,
    "pycharm": {
     "name": "#%%\n"
    }
   }
  },
  {
   "cell_type": "code",
   "execution_count": 38,
   "outputs": [
    {
     "name": "stdout",
     "output_type": "stream",
     "text": [
      "[' Male' ' Female']\n",
      "2\n"
     ]
    }
   ],
   "source": [
    "#tipos sex\n",
    "sex_unique_values = dataset['sex'].unique()\n",
    "print(sex_unique_values)\n",
    "print(len(sex_unique_values))"
   ],
   "metadata": {
    "collapsed": false,
    "pycharm": {
     "name": "#%%\n"
    }
   }
  },
  {
   "cell_type": "code",
   "execution_count": 39,
   "outputs": [
    {
     "name": "stdout",
     "output_type": "stream",
     "text": [
      "[' United-States' ' Cuba' ' Jamaica' ' India' ' ?' ' Mexico' ' South'\n",
      " ' Puerto-Rico' ' Honduras' ' England' ' Canada' ' Germany' ' Iran'\n",
      " ' Philippines' ' Italy' ' Poland' ' Columbia' ' Cambodia' ' Thailand'\n",
      " ' Ecuador' ' Laos' ' Taiwan' ' Haiti' ' Portugal' ' Dominican-Republic'\n",
      " ' El-Salvador' ' France' ' Guatemala' ' China' ' Japan' ' Yugoslavia'\n",
      " ' Peru' ' Outlying-US(Guam-USVI-etc)' ' Scotland' ' Trinadad&Tobago'\n",
      " ' Greece' ' Nicaragua' ' Vietnam' ' Hong' ' Ireland' ' Hungary'\n",
      " ' Holand-Netherlands']\n",
      "42\n"
     ]
    }
   ],
   "source": [
    "#tipos native-country\n",
    "native_country_unique_values = dataset['native-country'].unique()\n",
    "print(native_country_unique_values)\n",
    "print(len(native_country_unique_values))"
   ],
   "metadata": {
    "collapsed": false,
    "pycharm": {
     "name": "#%%\n"
    }
   }
  },
  {
   "cell_type": "code",
   "execution_count": 40,
   "outputs": [
    {
     "name": "stdout",
     "output_type": "stream",
     "text": [
      "[' <=50K' ' >50K']\n",
      "2\n"
     ]
    }
   ],
   "source": [
    "#tipos native-country\n",
    "salary_unique_values = dataset['salary'].unique()\n",
    "print(salary_unique_values)\n",
    "print(len(salary_unique_values))"
   ],
   "metadata": {
    "collapsed": false,
    "pycharm": {
     "name": "#%%\n"
    }
   }
  },
  {
   "cell_type": "code",
   "execution_count": 41,
   "outputs": [
    {
     "data": {
      "text/plain": "<AxesSubplot:>"
     },
     "execution_count": 41,
     "metadata": {},
     "output_type": "execute_result"
    },
    {
     "data": {
      "text/plain": "<Figure size 432x288 with 2 Axes>",
      "image/png": "[encoded data removed]"
     },
     "metadata": {
      "needs_background": "light"
     },
     "output_type": "display_data"
    }
   ],
   "source": [
    "heatmap(dataset.corr())"
   ],
   "metadata": {
    "collapsed": false,
    "pycharm": {
     "name": "#%%\n"
    }
   }
  },
  {
   "cell_type": "code",
   "execution_count": 42,
   "id": "ab49e023-c91e-41b0-9298-9ddd16c8e9d3",
   "metadata": {
    "pycharm": {
     "name": "#%%\n"
    }
   },
   "outputs": [
    {
     "data": {
      "text/plain": "   age  fnlwgt  hours-per-week  workclass_ ?  workclass_ Federal-gov  \\\n0   39   77516              40             0                       0   \n1   50   83311              13             0                       0   \n2   38  215646              40             0                       0   \n3   53  234721              40             0                       0   \n4   28  338409              40             0                       0   \n\n   workclass_ Local-gov  workclass_ Never-worked  workclass_ Private  \\\n0                     0                        0                   0   \n1                     0                        0                   0   \n2                     0                        0                   1   \n3                     0                        0                   1   \n4                     0                        0                   1   \n\n   workclass_ Self-emp-inc  workclass_ Self-emp-not-inc  ...  \\\n0                        0                            0  ...   \n1                        0                            1  ...   \n2                        0                            0  ...   \n3                        0                            0  ...   \n4                        0                            0  ...   \n\n   native-country_ Portugal  native-country_ Puerto-Rico  \\\n0                         0                            0   \n1                         0                            0   \n2                         0                            0   \n3                         0                            0   \n4                         0                            0   \n\n   native-country_ Scotland  native-country_ South  native-country_ Taiwan  \\\n0                         0                      0                       0   \n1                         0                      0                       0   \n2                         0                      0                       0   \n3                         0                      0                       0   \n4                         0                      0                       0   \n\n   native-country_ Thailand  native-country_ Trinadad&Tobago  \\\n0                         0                                0   \n1                         0                                0   \n2                         0                                0   \n3                         0                                0   \n4                         0                                0   \n\n   native-country_ United-States  native-country_ Vietnam  \\\n0                              1                        0   \n1                              1                        0   \n2                              1                        0   \n3                              1                        0   \n4                              0                        0   \n\n   native-country_ Yugoslavia  \n0                           0  \n1                           0  \n2                           0  \n3                           0  \n4                           0  \n\n[5 rows x 105 columns]",
      "text/html": "<div>\n<style scoped>\n    .dataframe tbody tr th:only-of-type {\n        vertical-align: middle;\n    }\n\n    .dataframe tbody tr th {\n        vertical-align: top;\n    }\n\n    .dataframe thead th {\n        text-align: right;\n    }\n</style>\n<table border=\"1\" class=\"dataframe\">\n  <thead>\n    <tr style=\"text-align: right;\">\n      <th></th>\n      <th>age</th>\n      <th>fnlwgt</th>\n      <th>hours-per-week</th>\n      <th>workclass_ ?</th>\n      <th>workclass_ Federal-gov</th>\n      <th>workclass_ Local-gov</th>\n      <th>workclass_ Never-worked</th>\n      <th>workclass_ Private</th>\n      <th>workclass_ Self-emp-inc</th>\n      <th>workclass_ Self-emp-not-inc</th>\n      <th>...</th>\n      <th>native-country_ Portugal</th>\n      <th>native-country_ Puerto-Rico</th>\n      <th>native-country_ Scotland</th>\n      <th>native-country_ South</th>\n      <th>native-country_ Taiwan</th>\n      <th>native-country_ Thailand</th>\n      <th>native-country_ Trinadad&amp;Tobago</th>\n      <th>native-country_ United-States</th>\n      <th>native-country_ Vietnam</th>\n      <th>native-country_ Yugoslavia</th>\n    </tr>\n  </thead>\n  <tbody>\n    <tr>\n      <th>0</th>\n      <td>39</td>\n      <td>77516</td>\n      <td>40</td>\n      <td>0</td>\n      <td>0</td>\n      <td>0</td>\n      <td>0</td>\n      <td>0</td>\n      <td>0</td>\n      <td>0</td>\n      <td>...</td>\n      <td>0</td>\n      <td>0</td>\n      <td>0</td>\n      <td>0</td>\n      <td>0</td>\n      <td>0</td>\n      <td>0</td>\n      <td>1</td>\n      <td>0</td>\n      <td>0</td>\n    </tr>\n    <tr>\n      <th>1</th>\n      <td>50</td>\n      <td>83311</td>\n      <td>13</td>\n      <td>0</td>\n      <td>0</td>\n      <td>0</td>\n      <td>0</td>\n      <td>0</td>\n      <td>0</td>\n      <td>1</td>\n      <td>...</td>\n      <td>0</td>\n      <td>0</td>\n      <td>0</td>\n      <td>0</td>\n      <td>0</td>\n      <td>0</td>\n      <td>0</td>\n      <td>1</td>\n      <td>0</td>\n      <td>0</td>\n    </tr>\n    <tr>\n      <th>2</th>\n      <td>38</td>\n      <td>215646</td>\n      <td>40</td>\n      <td>0</td>\n      <td>0</td>\n      <td>0</td>\n      <td>0</td>\n      <td>1</td>\n      <td>0</td>\n      <td>0</td>\n      <td>...</td>\n      <td>0</td>\n      <td>0</td>\n      <td>0</td>\n      <td>0</td>\n      <td>0</td>\n      <td>0</td>\n      <td>0</td>\n      <td>1</td>\n      <td>0</td>\n      <td>0</td>\n    </tr>\n    <tr>\n      <th>3</th>\n      <td>53</td>\n      <td>234721</td>\n      <td>40</td>\n      <td>0</td>\n      <td>0</td>\n      <td>0</td>\n      <td>0</td>\n      <td>1</td>\n      <td>0</td>\n      <td>0</td>\n      <td>...</td>\n      <td>0</td>\n      <td>0</td>\n      <td>0</td>\n      <td>0</td>\n      <td>0</td>\n      <td>0</td>\n      <td>0</td>\n      <td>1</td>\n      <td>0</td>\n      <td>0</td>\n    </tr>\n    <tr>\n      <th>4</th>\n      <td>28</td>\n      <td>338409</td>\n      <td>40</td>\n      <td>0</td>\n      <td>0</td>\n      <td>0</td>\n      <td>0</td>\n      <td>1</td>\n      <td>0</td>\n      <td>0</td>\n      <td>...</td>\n      <td>0</td>\n      <td>0</td>\n      <td>0</td>\n      <td>0</td>\n      <td>0</td>\n      <td>0</td>\n      <td>0</td>\n      <td>0</td>\n      <td>0</td>\n      <td>0</td>\n    </tr>\n  </tbody>\n</table>\n<p>5 rows × 105 columns</p>\n</div>"
     },
     "execution_count": 42,
     "metadata": {},
     "output_type": "execute_result"
    }
   ],
   "source": [
    "#Transformação do dataset, seleção das features\n",
    "\n",
    "feature_cols = ['age', 'fnlwgt', 'hours-per-week']\n",
    "target_col = 'salary'\n",
    "\n",
    "dummy_columns = ['workclass', 'education', 'marital-status', 'occupation', 'relationship', 'race', 'sex', 'native-country']\n",
    "\n",
    "prepared_dummy_columns = pd.get_dummies(dataset[dummy_columns])\n",
    "\n",
    "combined = pd.concat([dataset, prepared_dummy_columns], axis=1)\n",
    "\n",
    "feature_cols.extend(prepared_dummy_columns.columns.values.tolist())\n",
    "\n",
    "X = combined[feature_cols]\n",
    "y = combined[target_col]\n",
    "\n",
    "X.head()"
   ]
  },
  {
   "cell_type": "code",
   "execution_count": 43,
   "id": "af257dd3-bf82-4d21-a0d7-0a2615587514",
   "metadata": {
    "pycharm": {
     "name": "#%%\n"
    }
   },
   "outputs": [
    {
     "name": "stdout",
     "output_type": "stream",
     "text": [
      "| Train accuracy | Test accuracy | : | 0.9999353420406052 | 0.7980356046654389 |\n"
     ]
    }
   ],
   "source": [
    "#Treino\n",
    "test_percentage = 0.05\n",
    "X_train, X_test, y_train, y_test = \\\n",
    "    train_test_split(X, y, test_size=test_percentage)\n",
    "\n",
    "# Criação do classificador de árvore de decisão \n",
    "clf = DecisionTreeClassifier(criterion=\"entropy\")\n",
    "\n",
    "# Usamos o método fit para construir o classificador a partir do nosso conjunto de treinamento\n",
    "clf = clf.fit(X_train, y_train)\n",
    "\n",
    "train_accuracy = clf.score(X_train, y_train)\n",
    "\n",
    "# Usando modelo para classificar os dados que temos a disposição\n",
    "y_pred = clf.predict(X_test)\n",
    "test_accuracy = metrics.accuracy_score(y_test, y_pred)\n",
    "\n",
    "print('| Train accuracy | Test accuracy | : | {0} | {1} |'.format(train_accuracy, test_accuracy))"
   ]
  },
  {
   "cell_type": "code",
   "execution_count": 44,
   "id": "92fe195f-5cb8-426c-a141-7aad9e553d4c",
   "metadata": {
    "pycharm": {
     "name": "#%%\n"
    }
   },
   "outputs": [
    {
     "name": "stdout",
     "output_type": "stream",
     "text": [
      "dot: graph is too large for cairo-renderer bitmaps. Scaling by 0.218445 to fit\r\n",
      "\n",
      "dot: graph is too large for cairo-renderer bitmaps. Scaling by 0.218445 to fit\r\n",
      "\n"
     ]
    }
   ],
   "source": [
    "generate_decision_tree_png(clf, X.columns)"
   ]
  },
  {
   "cell_type": "code",
   "execution_count": 45,
   "id": "75c33299-d4e2-4eb2-9988-2e5d0da44bf6",
   "metadata": {
    "pycharm": {
     "name": "#%%\n"
    }
   },
   "outputs": [
    {
     "name": "stdout",
     "output_type": "stream",
     "text": [
      "[' <=50K']\n",
      "14551     <=50K\n",
      "Name: salary, dtype: object\n"
     ]
    }
   ],
   "source": [
    "#Teste\n",
    "random_element = random.randint(0, len(X))\n",
    "sample = X.iloc[[random_element]]\n",
    "target_of_sample = y.iloc[[random_element]]\n",
    "\n",
    "pred_sample = clf.predict(sample)\n",
    "\n",
    "print(pred_sample)\n",
    "print(target_of_sample)"
   ]
  },
  {
   "cell_type": "code",
   "execution_count": 46,
   "id": "72fd3b30-b6ed-46cb-84e6-74e5fed2c18c",
   "metadata": {
    "pycharm": {
     "name": "#%%\n"
    }
   },
   "outputs": [],
   "source": [
    "def fit_and_test_decision_tree_clf(X, y,criterion, test_percentage, max_depth = 10000):\n",
    "    X_train, X_test, y_train, y_test = \\\n",
    "        train_test_split(X, y, test_size=test_percentage)\n",
    "\n",
    "    # Criação do classificador de árvore de decisão \n",
    "    classifier = DecisionTreeClassifier(criterion=criterion, max_depth = max_depth)\n",
    "\n",
    "    # Usamos o método fit para construir o classificador a partir do nosso conjunto de treinamento\n",
    "    classifier = classifier.fit(X_train, y_train)\n",
    "    \n",
    "    train_accuracy = classifier.score(X_train, y_train)\n",
    "\n",
    "    # Usando modelo para classificar os dados que temos a disposição\n",
    "    y_pred = classifier.predict(X_test)\n",
    "    test_accuracy = metrics.accuracy_score(y_test, y_pred)\n",
    "    \n",
    "    return classifier, train_accuracy, test_accuracy"
   ]
  },
  {
   "cell_type": "code",
   "execution_count": 47,
   "id": "5deb9e9e",
   "metadata": {
    "pycharm": {
     "name": "#%%\n"
    }
   },
   "outputs": [],
   "source": [
    "def calculateDecisionTreeKfold(n_splits, shuffle, random_state, X, y):\n",
    "    kfold = KFold(n_splits, shuffle=shuffle, random_state=random_state)\n",
    "    model_dtc_kfold_3_entropy = DecisionTreeClassifier(criterion=\"entropy\")\n",
    "    print(kfold.get_n_splits(X))\n",
    "    # Médias\n",
    "    accuracy_med_train = 0\n",
    "    accuracy_med_test = 0\n",
    "    count_split = 0\n",
    "    for train_index, test_index in kfold.split(X):\n",
    "        count_split +=1\n",
    "        print(\" Treino:\", train_index, \"Teste:\", test_index)\n",
    "        X_train, X_test = X.loc[train_index,:], X.loc[test_index,:]\n",
    "        y_train, y_test = y[train_index], y[test_index]\n",
    "        model_dtc_kfold_3_entropy.fit(X_train, y_train)\n",
    "        y_pred_train = model_dtc_kfold_3_entropy.predict(X_train)\n",
    "        y_pred_test = model_dtc_kfold_3_entropy.predict(X_test)\n",
    "        # Cálculo das acurácias\n",
    "        accuracy_train = metrics.accuracy_score(y_train, y_pred_train)\n",
    "        accuracy_test = metrics.accuracy_score(y_test, y_pred_test)\n",
    "        print(\"Iteração: \" + str(count_split) + \" \\n\" + \"Acurácia do treinamento: \" + str(accuracy_train) + \" \\n\" + \"Acurácia do teste: \" + str(accuracy_test))\n",
    "        # Cálculo das médias\n",
    "        accuracy_med_train += accuracy_train/kfold.get_n_splits(X)\n",
    "        accuracy_med_test += accuracy_test/kfold.get_n_splits(X)\n",
    "    print(\"Acurácia média do treinamento:\", accuracy_med_train)\n",
    "    print(\"Acurácia média do teste:\", accuracy_med_test)"
   ]
  },
  {
   "cell_type": "markdown",
   "id": "de23af9e",
   "metadata": {
    "pycharm": {
     "name": "#%% md\n"
    }
   },
   "source": [
    "# Experimento n:\n",
    "**Situação Inicial:**\n",
    "* Classificador **Entropy**\n",
    "* K-fold 14"
   ]
  },
  {
   "cell_type": "code",
   "execution_count": 48,
   "id": "cb8c8341",
   "metadata": {
    "pycharm": {
     "name": "#%%\n"
    }
   },
   "outputs": [
    {
     "name": "stdout",
     "output_type": "stream",
     "text": [
      "14\n",
      " Treino: [    0     1     2 ... 32558 32559 32560] Teste: [    4     6    36 ... 32549 32553 32555]\n",
      "Iteração: 1 \n",
      "Acurácia do treinamento: 0.9999338514966098 \n",
      "Acurácia do teste: 0.7708512467755804\n",
      " Treino: [    1     3     4 ... 32557 32558 32560] Teste: [    0     2    39 ... 32505 32554 32559]\n",
      "Iteração: 2 \n",
      "Acurácia do treinamento: 0.9999669257483049 \n",
      "Acurácia do teste: 0.7833190025795357\n",
      " Treino: [    0     1     2 ... 32558 32559 32560] Teste: [   11    14    19 ... 32504 32528 32539]\n",
      "Iteração: 3 \n",
      "Acurácia do treinamento: 0.9999338514966098 \n",
      "Acurácia do teste: 0.7828890799656062\n",
      " Treino: [    0     1     2 ... 32558 32559 32560] Teste: [   15    32    44 ... 32507 32526 32548]\n",
      "Iteração: 4 \n",
      "Acurácia do treinamento: 0.9999338514966098 \n",
      "Acurácia do teste: 0.791487532244196\n",
      " Treino: [    0     2     3 ... 32558 32559 32560] Teste: [    1     8     9 ... 32506 32513 32516]\n",
      "Iteração: 5 \n",
      "Acurácia do treinamento: 0.9999669257483049 \n",
      "Acurácia do teste: 0.7811693895098882\n",
      " Treino: [    0     1     2 ... 32558 32559 32560] Teste: [   16    17    20 ... 32486 32520 32525]\n",
      "Iteração: 6 \n",
      "Acurácia do treinamento: 0.9999338514966098 \n",
      "Acurácia do teste: 0.7785898538263113\n",
      " Treino: [    0     1     2 ... 32557 32558 32559] Teste: [    3    27    34 ... 32535 32538 32560]\n",
      "Iteração: 7 \n",
      "Acurácia do treinamento: 0.9999669257483049 \n",
      "Acurácia do teste: 0.788907996560619\n",
      " Treino: [    0     1     2 ... 32558 32559 32560] Teste: [    5    37    70 ... 32489 32499 32532]\n",
      "Iteração: 8 \n",
      "Acurácia do treinamento: 0.9999338514966098 \n",
      "Acurácia do teste: 0.7923473774720551\n",
      " Treino: [    0     1     2 ... 32558 32559 32560] Teste: [   13    24    25 ... 32545 32546 32556]\n",
      "Iteração: 9 \n",
      "Acurácia do treinamento: 0.9999338514966098 \n",
      "Acurácia do teste: 0.7828890799656062\n",
      " Treino: [    0     1     2 ... 32558 32559 32560] Teste: [   28    45    62 ... 32537 32542 32550]\n",
      "Iteração: 10 \n",
      "Acurácia do treinamento: 0.9999338514966098 \n",
      "Acurácia do teste: 0.7790197764402408\n",
      " Treino: [    0     1     2 ... 32558 32559 32560] Teste: [    7    22    47 ... 32543 32544 32547]\n",
      "Iteração: 11 \n",
      "Acurácia do treinamento: 0.9999338514966098 \n",
      "Acurácia do teste: 0.790627687016337\n",
      " Treino: [    0     1     2 ... 32558 32559 32560] Teste: [   21    26    41 ... 32510 32531 32536]\n",
      "Iteração: 12 \n",
      "Acurácia do treinamento: 0.9999338536843497 \n",
      "Acurácia do teste: 0.7772043010752688\n",
      " Treino: [    0     1     2 ... 32556 32559 32560] Teste: [   12    18    31 ... 32552 32557 32558]\n",
      "Iteração: 13 \n",
      "Acurácia do treinamento: 0.9999338536843497 \n",
      "Acurácia do teste: 0.7806451612903226\n",
      " Treino: [    0     1     2 ... 32558 32559 32560] Teste: [   33    56    68 ... 32534 32540 32551]\n",
      "Iteração: 14 \n",
      "Acurácia do treinamento: 0.9999338536843497 \n",
      "Acurácia do teste: 0.7849462365591398\n",
      "Acurácia média do treinamento: 0.9999409393050604\n",
      "Acurácia média do teste: 0.7832066943771934\n"
     ]
    }
   ],
   "source": [
    "calculateDecisionTreeKfold(14, True, 80, X, y)"
   ]
  }
 ],
 "metadata": {
  "colab": {
   "include_colab_link": true,
   "name": "arvore-decisao-parte2.ipynb",
   "provenance": []
  },
  "kernelspec": {
   "display_name": "Python 3 (ipykernel)",
   "language": "python",
   "name": "python3"
  },
  "language_info": {
   "codemirror_mode": {
    "name": "ipython",
    "version": 3
   },
   "file_extension": ".py",
   "mimetype": "text/x-python",
   "name": "python",
   "nbconvert_exporter": "python",
   "pygments_lexer": "ipython3",
   "version": "3.10.5"
  },
  "vscode": {
   "interpreter": {
    "hash": "4f196f7554b24332a19ef2d1e38c36eeb19a86dc137a0ce6d9673ab017d6f1b7"
   }
  }
 },
 "nbformat": 4,
 "nbformat_minor": 5
}